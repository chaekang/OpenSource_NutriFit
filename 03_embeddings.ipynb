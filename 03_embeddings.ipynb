{
 "cells": [
  {
   "attachments": {},
   "cell_type": "markdown",
   "metadata": {},
   "source": [
    "# NLP를 활용한 레시피 추천 챗봇 구현\n",
    "**개요**\n",
    "- Collection \n",
    "- Preprocessing\n",
    "- EDA\n",
    "- Embeddings\n",
    "- Modeling\n",
    "- Streamlit"
   ]
  },
  {
   "attachments": {},
   "cell_type": "markdown",
   "metadata": {},
   "source": [
    "## 4. Embeddings\n",
    "**모델링 과정**\n",
    "1. 사전 학습된 모델을 Sentence Transformer 를 통해 불러오기\n",
    "2. 수집하고 기본적인 전처리를 거친 데이터를 위의 모델을 통해 임베딩 벡터로 변환한 파생변수 생성하기\n",
    "3. input 으로 사용자가 재료를 포함한 문자열을 입력하면 문장을 벡터화하여 기존의 임베딩 벡터와 코사인 유사도를 구하는 함수\n",
    "4. 코사인 유사도 상위 기준으로 n개를 output 으로 추천\n",
    "5. OpenAI 의 API 를 활용하여 사용자의 문장 형태 input 의 의도를 파악하여 모델링 함수를 실행하도록 연동\n",
    "6. streamlit 에 연동하여 배포\n"
   ]
  },
  {
   "attachments": {},
   "cell_type": "markdown",
   "metadata": {},
   "source": [
    "### 라이브러리 import"
   ]
  },
  {
   "cell_type": "code",
   "execution_count": 2,
   "metadata": {},
   "outputs": [],
   "source": [
    "# 데이터 분석\n",
    "import pandas as pd\n",
    "import numpy as np\n",
    "\n",
    "# 데이터 시각화\n",
    "import matplotlib.pyplot as plt\n",
    "import seaborn as sns\n",
    "\n",
    "# 진행시간 표시\n",
    "import swifter\n",
    "from tqdm.notebook import tqdm\n",
    "tqdm.pandas()"
   ]
  },
  {
   "cell_type": "code",
   "execution_count": 3,
   "metadata": {},
   "outputs": [],
   "source": [
    "# 파이토치\n",
    "import torch\n",
    "\n",
    "# 문장 임베딩, transformer 유틸리티\n",
    "from transformers import AutoTokenizer, AutoModel\n",
    "from sentence_transformers import SentenceTransformer, util\n",
    "from sentence_transformers import SentenceTransformer, models"
   ]
  },
  {
   "cell_type": "code",
   "execution_count": 4,
   "metadata": {},
   "outputs": [],
   "source": [
    "# 객체 복사\n",
    "import copy\n",
    "\n",
    "# JSON 형식 데이터 처리\n",
    "import json\n",
    "\n",
    "# 데이터 수집\n",
    "import requests"
   ]
  },
  {
   "cell_type": "code",
   "execution_count": 5,
   "metadata": {},
   "outputs": [],
   "source": [
    "# 데이터베이스 활용\n",
    "import sqlite3 \n",
    "import pickle"
   ]
  },
  {
   "cell_type": "code",
   "execution_count": 6,
   "metadata": {},
   "outputs": [],
   "source": [
    "# OpenAI API 활용\n",
    "import openai \n",
    "import os # 운영체제\n",
    "import sys # 파이썬 변수, 함수 엑세스 \n",
    "from dotenv import load_dotenv # 환경 변수 로드(API Key 보안)\n",
    "\n",
    "os.environ[\"TOKENIZERS_PARALLELISM\"] = \"false\"\n",
    "load_dotenv()    \n",
    "openai.api_key = os.getenv('OPENAI_API_KEY')"
   ]
  },
  {
   "cell_type": "code",
   "execution_count": 7,
   "metadata": {},
   "outputs": [
    {
     "data": {
      "text/plain": [
       "'win32'"
      ]
     },
     "execution_count": 7,
     "metadata": {},
     "output_type": "execute_result"
    }
   ],
   "source": [
    "# 실행 os 확인\n",
    "cur_os = sys.platform\n",
    "cur_os"
   ]
  },
  {
   "attachments": {},
   "cell_type": "markdown",
   "metadata": {},
   "source": [
    "### 데이터 불러오기"
   ]
  },
  {
   "cell_type": "code",
   "execution_count": 8,
   "metadata": {},
   "outputs": [
    {
     "data": {
      "text/plain": [
       "(4947, 11)"
      ]
     },
     "execution_count": 8,
     "metadata": {},
     "output_type": "execute_result"
    }
   ],
   "source": [
    "df = pd.read_csv('data/preprocessed_recipes.csv')\n",
    "df.shape"
   ]
  },
  {
   "cell_type": "code",
   "execution_count": 9,
   "metadata": {},
   "outputs": [
    {
     "data": {
      "text/html": [
       "<div>\n",
       "<style scoped>\n",
       "    .dataframe tbody tr th:only-of-type {\n",
       "        vertical-align: middle;\n",
       "    }\n",
       "\n",
       "    .dataframe tbody tr th {\n",
       "        vertical-align: top;\n",
       "    }\n",
       "\n",
       "    .dataframe thead th {\n",
       "        text-align: right;\n",
       "    }\n",
       "</style>\n",
       "<table border=\"1\" class=\"dataframe\">\n",
       "  <thead>\n",
       "    <tr style=\"text-align: right;\">\n",
       "      <th></th>\n",
       "      <th>요리</th>\n",
       "      <th>종류</th>\n",
       "      <th>난이도</th>\n",
       "      <th>소요시간</th>\n",
       "      <th>링크</th>\n",
       "      <th>사진</th>\n",
       "      <th>재료</th>\n",
       "      <th>요리방법</th>\n",
       "      <th>설명</th>\n",
       "      <th>재료수</th>\n",
       "      <th>질병</th>\n",
       "    </tr>\n",
       "  </thead>\n",
       "  <tbody>\n",
       "    <tr>\n",
       "      <th>0</th>\n",
       "      <td>올리브 소시지 솥밥</td>\n",
       "      <td>메인요리</td>\n",
       "      <td>1</td>\n",
       "      <td>30</td>\n",
       "      <td>https://wtable.co.kr/recipes/rF7F5gmLrySsw7ZXZ...</td>\n",
       "      <td>https://static.wtable.co.kr/image/production/s...</td>\n",
       "      <td>소시지 올리브오일 쌀 치킨스톡파우더 물 후춧가루 파마산치즈 파슬리 올리브 샬롯</td>\n",
       "      <td>['쌀은 씻어 채에 받쳐 30분 정도 불려주세요.\\xa0', '소세지는 모양대로 슬...</td>\n",
       "      <td>올리브를 넣어 이국적인 감칠맛이 매력적인 솥 밥. 별다른 양념없이도 술술 넘어가는 ...</td>\n",
       "      <td>10</td>\n",
       "      <td>일반</td>\n",
       "    </tr>\n",
       "  </tbody>\n",
       "</table>\n",
       "</div>"
      ],
      "text/plain": [
       "           요리    종류  난이도  소요시간  \\\n",
       "0  올리브 소시지 솥밥  메인요리    1    30   \n",
       "\n",
       "                                                  링크  \\\n",
       "0  https://wtable.co.kr/recipes/rF7F5gmLrySsw7ZXZ...   \n",
       "\n",
       "                                                  사진  \\\n",
       "0  https://static.wtable.co.kr/image/production/s...   \n",
       "\n",
       "                                            재료  \\\n",
       "0  소시지 올리브오일 쌀 치킨스톡파우더 물 후춧가루 파마산치즈 파슬리 올리브 샬롯   \n",
       "\n",
       "                                                요리방법  \\\n",
       "0  ['쌀은 씻어 채에 받쳐 30분 정도 불려주세요.\\xa0', '소세지는 모양대로 슬...   \n",
       "\n",
       "                                                  설명  재료수  질병  \n",
       "0  올리브를 넣어 이국적인 감칠맛이 매력적인 솥 밥. 별다른 양념없이도 술술 넘어가는 ...   10  일반  "
      ]
     },
     "execution_count": 9,
     "metadata": {},
     "output_type": "execute_result"
    }
   ],
   "source": [
    "df.head(1)"
   ]
  },
  {
   "cell_type": "code",
   "execution_count": 10,
   "metadata": {},
   "outputs": [],
   "source": [
    "difficulty_map = {1: '쉬움', 2: '보통', 3: '어려움'}\n",
    "df['난이도'] = df['난이도'].map(difficulty_map)"
   ]
  },
  {
   "cell_type": "code",
   "execution_count": 11,
   "metadata": {},
   "outputs": [
    {
     "name": "stdout",
     "output_type": "stream",
     "text": [
      "<class 'pandas.core.frame.DataFrame'>\n",
      "RangeIndex: 4947 entries, 0 to 4946\n",
      "Data columns (total 11 columns):\n",
      " #   Column  Non-Null Count  Dtype \n",
      "---  ------  --------------  ----- \n",
      " 0   요리      4947 non-null   object\n",
      " 1   종류      4947 non-null   object\n",
      " 2   난이도     4947 non-null   object\n",
      " 3   소요시간    4947 non-null   int64 \n",
      " 4   링크      4947 non-null   object\n",
      " 5   사진      4947 non-null   object\n",
      " 6   재료      4947 non-null   object\n",
      " 7   요리방법    4947 non-null   object\n",
      " 8   설명      4947 non-null   object\n",
      " 9   재료수     4947 non-null   int64 \n",
      " 10  질병      4947 non-null   object\n",
      "dtypes: int64(2), object(9)\n",
      "memory usage: 425.3+ KB\n"
     ]
    }
   ],
   "source": [
    "df.info()"
   ]
  },
  {
   "attachments": {},
   "cell_type": "markdown",
   "metadata": {},
   "source": [
    "### 전이학습을 통한 임베딩 벡터 생성\n",
    "- 사전학습 모델을 활용\n",
    "- feature 생성 및 비교"
   ]
  },
  {
   "attachments": {},
   "cell_type": "markdown",
   "metadata": {},
   "source": [
    "### feature 생성"
   ]
  },
  {
   "cell_type": "code",
   "execution_count": 12,
   "metadata": {},
   "outputs": [
    {
     "data": {
      "text/plain": [
       "0       소시지 올리브오일 쌀 치킨스톡파우더 물 후춧가루 파마산치즈 파슬리 올리브 샬롯올리브...\n",
       "1       파스타면 소금 올리브오일 물 후춧가루 파슬리 올리브 방울토마토 케이퍼원 팟 파스타냄...\n",
       "2       브리치즈 마늘 올리브오일 바게트 꿀 로즈마리 후춧가루 방울토마토그릴드 브리치즈브리치...\n",
       "3       소금 루꼴라 복숭아 올리브오일 화이트발사믹 민트잎 꿀 후춧가루 방울토마토 부라타치즈...\n",
       "4       소금 양파 올리브오일 아보카도 고수 토마토 토르티야 슈파마산치즈 레몬과카몰리 부리또...\n",
       "                              ...                        \n",
       "4942    설탕 골뱅이통조림 물 튀김가루 간장 식초 고춧가루 식용유 대파골뱅이튀김과 파채특유의...\n",
       "4943    다진파슬리 다진마늘 청주 피자치즈 대하 후춧가루 마요네즈 레몬대하치즈구이비주얼부터 ...\n",
       "4944    소금 타임 올리브오일 아스파라거스 녹인버터 새송이버섯 로즈마리 후춧가루 편마늘 방울...\n",
       "4945    다진파슬리 달걀 피자치즈 단호박 슬라이스햄단호박 에그슬럿노란빛의 달콤한 속살을 가진...\n",
       "4946    소금 타임 디종머스타드 코코넛밀크 후춧가루 두유 뉴트리셔널이스트 파슬리 대파대파그라...\n",
       "Name: feature, Length: 4947, dtype: object"
      ]
     },
     "execution_count": 12,
     "metadata": {},
     "output_type": "execute_result"
    }
   ],
   "source": [
    "df['feature'] = df['재료'] + df['요리'] + df['설명'] + df['종류'] + df['난이도'] + df['요리방법'] + df['질병']\n",
    "df['feature']"
   ]
  },
  {
   "cell_type": "code",
   "execution_count": 13,
   "metadata": {},
   "outputs": [],
   "source": [
    "df.to_csv('data/feature_recipes.csv', index=False)"
   ]
  },
  {
   "attachments": {},
   "cell_type": "markdown",
   "metadata": {},
   "source": [
    "### 사전 학습 모델\n",
    "- model : Sentence Transformer\n",
    "- pre trained model : `jhgan/ko-sroberta-multitask`"
   ]
  },
  {
   "cell_type": "code",
   "execution_count": 14,
   "metadata": {},
   "outputs": [],
   "source": [
    "model_name = 'jhgan/ko-sroberta-multitask'"
   ]
  },
  {
   "cell_type": "code",
   "execution_count": 15,
   "metadata": {},
   "outputs": [
    {
     "data": {
      "text/plain": [
       "SentenceTransformer(\n",
       "  (0): Transformer({'max_seq_length': 128, 'do_lower_case': False}) with Transformer model: RobertaModel \n",
       "  (1): Pooling({'word_embedding_dimension': 768, 'pooling_mode_cls_token': False, 'pooling_mode_mean_tokens': True, 'pooling_mode_max_tokens': False, 'pooling_mode_mean_sqrt_len_tokens': False, 'pooling_mode_weightedmean_tokens': False, 'pooling_mode_lasttoken': False, 'include_prompt': True})\n",
       ")"
      ]
     },
     "execution_count": 15,
     "metadata": {},
     "output_type": "execute_result"
    }
   ],
   "source": [
    "model = SentenceTransformer(model_name)\n",
    "model"
   ]
  },
  {
   "cell_type": "code",
   "execution_count": 16,
   "metadata": {},
   "outputs": [
    {
     "data": {
      "application/vnd.jupyter.widget-view+json": {
       "model_id": "491a56b2f09847dd942ffa5a5244a6a5",
       "version_major": 2,
       "version_minor": 0
      },
      "text/plain": [
       "  0%|          | 0/4947 [00:00<?, ?it/s]"
      ]
     },
     "metadata": {},
     "output_type": "display_data"
    }
   ],
   "source": [
    "# feature1\n",
    "feature_name = 'feature'\n",
    "df[f'{model_name}-' + f'{feature_name}'] = df['feature'].progress_apply(lambda x: model.encode(x))"
   ]
  },
  {
   "cell_type": "code",
   "execution_count": 17,
   "metadata": {},
   "outputs": [
    {
     "data": {
      "text/plain": [
       "13"
      ]
     },
     "execution_count": 17,
     "metadata": {},
     "output_type": "execute_result"
    }
   ],
   "source": [
    "len(df.columns)"
   ]
  },
  {
   "cell_type": "code",
   "execution_count": 19,
   "metadata": {},
   "outputs": [],
   "source": [
    "df.columns = ['요리', '종류', '난이도', '소요시간', '링크', '사진', '재료', '요리방법', '설명', '재료수', '질병', 'feature', 'ko-sroberta-multitask-feature']"
   ]
  },
  {
   "cell_type": "code",
   "execution_count": 20,
   "metadata": {},
   "outputs": [
    {
     "data": {
      "text/html": [
       "<div>\n",
       "<style scoped>\n",
       "    .dataframe tbody tr th:only-of-type {\n",
       "        vertical-align: middle;\n",
       "    }\n",
       "\n",
       "    .dataframe tbody tr th {\n",
       "        vertical-align: top;\n",
       "    }\n",
       "\n",
       "    .dataframe thead th {\n",
       "        text-align: right;\n",
       "    }\n",
       "</style>\n",
       "<table border=\"1\" class=\"dataframe\">\n",
       "  <thead>\n",
       "    <tr style=\"text-align: right;\">\n",
       "      <th></th>\n",
       "      <th>요리</th>\n",
       "      <th>종류</th>\n",
       "      <th>난이도</th>\n",
       "      <th>재료</th>\n",
       "      <th>요리방법</th>\n",
       "      <th>설명</th>\n",
       "      <th>재료수</th>\n",
       "      <th>소요시간</th>\n",
       "      <th>링크</th>\n",
       "      <th>사진</th>\n",
       "      <th>질병</th>\n",
       "      <th>feature</th>\n",
       "      <th>ko-sroberta-multitask-feature</th>\n",
       "    </tr>\n",
       "  </thead>\n",
       "  <tbody>\n",
       "    <tr>\n",
       "      <th>0</th>\n",
       "      <td>올리브 소시지 솥밥</td>\n",
       "      <td>메인요리</td>\n",
       "      <td>쉬움</td>\n",
       "      <td>소시지 올리브오일 쌀 치킨스톡파우더 물 후춧가루 파마산치즈 파슬리 올리브 샬롯</td>\n",
       "      <td>['쌀은 씻어 채에 받쳐 30분 정도 불려주세요.\\xa0', '소세지는 모양대로 슬...</td>\n",
       "      <td>올리브를 넣어 이국적인 감칠맛이 매력적인 솥 밥. 별다른 양념없이도 술술 넘어가는 ...</td>\n",
       "      <td>10</td>\n",
       "      <td>30</td>\n",
       "      <td>https://wtable.co.kr/recipes/rF7F5gmLrySsw7ZXZ...</td>\n",
       "      <td>https://static.wtable.co.kr/image/production/s...</td>\n",
       "      <td>일반</td>\n",
       "      <td>소시지 올리브오일 쌀 치킨스톡파우더 물 후춧가루 파마산치즈 파슬리 올리브 샬롯올리브...</td>\n",
       "      <td>[0.088191085, -0.08414504, -0.14284688, -0.264...</td>\n",
       "    </tr>\n",
       "    <tr>\n",
       "      <th>1</th>\n",
       "      <td>원 팟 파스타</td>\n",
       "      <td>메인요리</td>\n",
       "      <td>쉬움</td>\n",
       "      <td>파스타면 소금 올리브오일 물 후춧가루 파슬리 올리브 방울토마토 케이퍼</td>\n",
       "      <td>['방울토마토는 반으로 썰어주세요.\\xa0파슬리는 다져주세요.', '냄비에 파스타면...</td>\n",
       "      <td>냄비에 파스타와 토마토, 올리브 등 재료를 넣고 물을 부은 후 끓이면 완성되는 초간...</td>\n",
       "      <td>9</td>\n",
       "      <td>20</td>\n",
       "      <td>https://wtable.co.kr/recipes/EzDURnKruCpR2nGxZ...</td>\n",
       "      <td>https://static.wtable.co.kr/image/production/s...</td>\n",
       "      <td>일반</td>\n",
       "      <td>파스타면 소금 올리브오일 물 후춧가루 파슬리 올리브 방울토마토 케이퍼원 팟 파스타냄...</td>\n",
       "      <td>[-0.053257108, 0.070922054, -0.02161145, -0.61...</td>\n",
       "    </tr>\n",
       "    <tr>\n",
       "      <th>2</th>\n",
       "      <td>그릴드 브리치즈</td>\n",
       "      <td>메인요리</td>\n",
       "      <td>쉬움</td>\n",
       "      <td>브리치즈 마늘 올리브오일 바게트 꿀 로즈마리 후춧가루 방울토마토</td>\n",
       "      <td>['브리치즈에 칼집을 넣어주세요. 마늘은 편을 썰어주세요.\\xa0', '오븐용기에 ...</td>\n",
       "      <td>브리치즈와 토마토, 오일과 허브를 뿌린 후 오븐에 구워내 보세요. 와인안주로 활용하...</td>\n",
       "      <td>8</td>\n",
       "      <td>30</td>\n",
       "      <td>https://wtable.co.kr/recipes/Tzr7zXZuJvm35s1wd...</td>\n",
       "      <td>https://static.wtable.co.kr/image/production/s...</td>\n",
       "      <td>일반</td>\n",
       "      <td>브리치즈 마늘 올리브오일 바게트 꿀 로즈마리 후춧가루 방울토마토그릴드 브리치즈브리치...</td>\n",
       "      <td>[-0.071512364, -0.16087213, -0.052535467, 0.07...</td>\n",
       "    </tr>\n",
       "    <tr>\n",
       "      <th>3</th>\n",
       "      <td>그릴드 피치 샐러드</td>\n",
       "      <td>메인요리</td>\n",
       "      <td>쉬움</td>\n",
       "      <td>소금 루꼴라 복숭아 올리브오일 화이트발사믹 민트잎 꿀 후춧가루 방울토마토 부라타치즈</td>\n",
       "      <td>['복숭아는 씨를 빼고 웨지 모양으로 썰어주세요. 작은 것은 반으로 썰어 주세요.\\...</td>\n",
       "      <td>복숭아에 멋진 그릴 자국을 내보세요. 여름을 맞아 제철인 단단한 복숭아를 그릴에 구...</td>\n",
       "      <td>10</td>\n",
       "      <td>25</td>\n",
       "      <td>https://wtable.co.kr/recipes/RofraF8aFP5u5rqeX...</td>\n",
       "      <td>https://static.wtable.co.kr/image/production/s...</td>\n",
       "      <td>일반</td>\n",
       "      <td>소금 루꼴라 복숭아 올리브오일 화이트발사믹 민트잎 꿀 후춧가루 방울토마토 부라타치즈...</td>\n",
       "      <td>[-0.070178695, 0.05069192, -0.26207393, 0.2856...</td>\n",
       "    </tr>\n",
       "    <tr>\n",
       "      <th>4</th>\n",
       "      <td>과카몰리 부리또콘</td>\n",
       "      <td>메인요리</td>\n",
       "      <td>쉬움</td>\n",
       "      <td>소금 양파 올리브오일 아보카도 고수 토마토 토르티야 슈파마산치즈 레몬</td>\n",
       "      <td>['또띠아를 반으로 자른 후 원 뿔 모양으로 둥글게 말아 나무 꼬치로 가장자리를 고...</td>\n",
       "      <td>아보카도는 불포화 지방산이 풍부해 콜레스테롤 수치를 낮추고 혈관건강에 유익해요. 게...</td>\n",
       "      <td>9</td>\n",
       "      <td>20</td>\n",
       "      <td>https://wtable.co.kr/recipes/3PW95soZHRArnzsYB...</td>\n",
       "      <td>https://static.wtable.co.kr/image/production/s...</td>\n",
       "      <td>일반</td>\n",
       "      <td>소금 양파 올리브오일 아보카도 고수 토마토 토르티야 슈파마산치즈 레몬과카몰리 부리또...</td>\n",
       "      <td>[-0.0049587316, 0.069201306, -0.17497921, 0.61...</td>\n",
       "    </tr>\n",
       "    <tr>\n",
       "      <th>...</th>\n",
       "      <td>...</td>\n",
       "      <td>...</td>\n",
       "      <td>...</td>\n",
       "      <td>...</td>\n",
       "      <td>...</td>\n",
       "      <td>...</td>\n",
       "      <td>...</td>\n",
       "      <td>...</td>\n",
       "      <td>...</td>\n",
       "      <td>...</td>\n",
       "      <td>...</td>\n",
       "      <td>...</td>\n",
       "      <td>...</td>\n",
       "    </tr>\n",
       "    <tr>\n",
       "      <th>4942</th>\n",
       "      <td>골뱅이튀김과 파채</td>\n",
       "      <td>오븐 요리</td>\n",
       "      <td>보통</td>\n",
       "      <td>설탕 골뱅이통조림 물 튀김가루 간장 식초 고춧가루 식용유 대파</td>\n",
       "      <td>['골뱅이는 물기를 제거한 후 튀김가루를 묻혀주세요. 튀김반죽 재료를 넣고 섞은 후...</td>\n",
       "      <td>특유의 쫄깃한 식감이 매력적인 골뱅이. 지금까지 골뱅이무침만 먹어 오셨다면, 오늘은...</td>\n",
       "      <td>9</td>\n",
       "      <td>25</td>\n",
       "      <td>https://wtable.co.kr/recipes/8afBworBmh46MEuuM...</td>\n",
       "      <td>https://static.wtable.co.kr/image/production/s...</td>\n",
       "      <td>일반</td>\n",
       "      <td>설탕 골뱅이통조림 물 튀김가루 간장 식초 고춧가루 식용유 대파골뱅이튀김과 파채특유의...</td>\n",
       "      <td>[-0.27840194, 0.03972874, 0.09049826, 0.318712...</td>\n",
       "    </tr>\n",
       "    <tr>\n",
       "      <th>4943</th>\n",
       "      <td>대하치즈구이</td>\n",
       "      <td>오븐 요리</td>\n",
       "      <td>보통</td>\n",
       "      <td>다진파슬리 다진마늘 청주 피자치즈 대하 후춧가루 마요네즈 레몬</td>\n",
       "      <td>['대하의 수염과 다리를 잘라 손질해 주세요. 등을 따라 껍데기에 가위집을 내고 칼...</td>\n",
       "      <td>비주얼부터 감탄에 감탄을 부르는 대하치즈구이! 탱글탱글한 대하를 동그랗게 펼친 후 ...</td>\n",
       "      <td>8</td>\n",
       "      <td>30</td>\n",
       "      <td>https://wtable.co.kr/recipes/fgVuSyhNShABoMvcd...</td>\n",
       "      <td>https://static.wtable.co.kr/image/production/s...</td>\n",
       "      <td>일반</td>\n",
       "      <td>다진파슬리 다진마늘 청주 피자치즈 대하 후춧가루 마요네즈 레몬대하치즈구이비주얼부터 ...</td>\n",
       "      <td>[0.03511691, 0.22847946, 0.34631813, 0.2503743...</td>\n",
       "    </tr>\n",
       "    <tr>\n",
       "      <th>4944</th>\n",
       "      <td>돈마호크</td>\n",
       "      <td>오븐 요리</td>\n",
       "      <td>보통</td>\n",
       "      <td>소금 타임 올리브오일 아스파라거스 녹인버터 새송이버섯 로즈마리 후춧가루 편마늘 방울...</td>\n",
       "      <td>['돈마호크를 밑간 재료에 10분간 재워주세요.', '법랑 접시에 석쇠를 놓고 돈마...</td>\n",
       "      <td>소고기에 토마호크가 있다면, 돼지고기엔 돈마호크가 있죠. 돈마호크는 돼지고기의 삼겹...</td>\n",
       "      <td>11</td>\n",
       "      <td>30</td>\n",
       "      <td>https://wtable.co.kr/recipes/nZ2EMyCWvh8jo7Y9S...</td>\n",
       "      <td>https://static.wtable.co.kr/image/production/s...</td>\n",
       "      <td>일반</td>\n",
       "      <td>소금 타임 올리브오일 아스파라거스 녹인버터 새송이버섯 로즈마리 후춧가루 편마늘 방울...</td>\n",
       "      <td>[0.22016503, -0.15433419, -0.065425135, 0.0733...</td>\n",
       "    </tr>\n",
       "    <tr>\n",
       "      <th>4945</th>\n",
       "      <td>단호박 에그슬럿</td>\n",
       "      <td>오븐 요리</td>\n",
       "      <td>보통</td>\n",
       "      <td>다진파슬리 달걀 피자치즈 단호박 슬라이스햄</td>\n",
       "      <td>['법랑 접시에 석쇠를 놓고 깨끗이 씻은 단호박을 올려 1단에 넣고 광파오븐 수동 ...</td>\n",
       "      <td>노란빛의 달콤한 속살을 가진 단호박은 식이섬유가 많고 열량이 낮아 다이어트에 효과적...</td>\n",
       "      <td>5</td>\n",
       "      <td>30</td>\n",
       "      <td>https://wtable.co.kr/recipes/JERayqDgKrLf4fawy...</td>\n",
       "      <td>https://static.wtable.co.kr/image/production/s...</td>\n",
       "      <td>비만</td>\n",
       "      <td>다진파슬리 달걀 피자치즈 단호박 슬라이스햄단호박 에그슬럿노란빛의 달콤한 속살을 가진...</td>\n",
       "      <td>[0.08519404, -0.30381483, 0.46431497, 0.184560...</td>\n",
       "    </tr>\n",
       "    <tr>\n",
       "      <th>4946</th>\n",
       "      <td>대파그라탕</td>\n",
       "      <td>오븐 요리</td>\n",
       "      <td>쉬움</td>\n",
       "      <td>소금 타임 디종머스타드 코코넛밀크 후춧가루 두유 뉴트리셔널이스트 파슬리 대파</td>\n",
       "      <td>['냄비에 비건 크림 재료를 붓고 약불에서 10분간 저어가며 끓여주세요.', '깨끗...</td>\n",
       "      <td>대파의 무한변신, 대파그라탕! 대파의 은은한 단맛과 향이 매력적인 요리인데요. 특히...</td>\n",
       "      <td>9</td>\n",
       "      <td>30</td>\n",
       "      <td>https://wtable.co.kr/recipes/JyHPoLXkZ5m8Xu9rt...</td>\n",
       "      <td>https://static.wtable.co.kr/image/production/s...</td>\n",
       "      <td>일반</td>\n",
       "      <td>소금 타임 디종머스타드 코코넛밀크 후춧가루 두유 뉴트리셔널이스트 파슬리 대파대파그라...</td>\n",
       "      <td>[-0.7958256, -0.061069977, 0.3894541, -0.46613...</td>\n",
       "    </tr>\n",
       "  </tbody>\n",
       "</table>\n",
       "<p>4947 rows × 13 columns</p>\n",
       "</div>"
      ],
      "text/plain": [
       "              요리     종류 난이도  \\\n",
       "0     올리브 소시지 솥밥   메인요리  쉬움   \n",
       "1        원 팟 파스타   메인요리  쉬움   \n",
       "2       그릴드 브리치즈   메인요리  쉬움   \n",
       "3     그릴드 피치 샐러드   메인요리  쉬움   \n",
       "4      과카몰리 부리또콘   메인요리  쉬움   \n",
       "...          ...    ...  ..   \n",
       "4942   골뱅이튀김과 파채  오븐 요리  보통   \n",
       "4943      대하치즈구이  오븐 요리  보통   \n",
       "4944        돈마호크  오븐 요리  보통   \n",
       "4945    단호박 에그슬럿  오븐 요리  보통   \n",
       "4946       대파그라탕  오븐 요리  쉬움   \n",
       "\n",
       "                                                     재료  \\\n",
       "0           소시지 올리브오일 쌀 치킨스톡파우더 물 후춧가루 파마산치즈 파슬리 올리브 샬롯   \n",
       "1                파스타면 소금 올리브오일 물 후춧가루 파슬리 올리브 방울토마토 케이퍼   \n",
       "2                   브리치즈 마늘 올리브오일 바게트 꿀 로즈마리 후춧가루 방울토마토   \n",
       "3        소금 루꼴라 복숭아 올리브오일 화이트발사믹 민트잎 꿀 후춧가루 방울토마토 부라타치즈   \n",
       "4                소금 양파 올리브오일 아보카도 고수 토마토 토르티야 슈파마산치즈 레몬   \n",
       "...                                                 ...   \n",
       "4942                 설탕 골뱅이통조림 물 튀김가루 간장 식초 고춧가루 식용유 대파   \n",
       "4943                 다진파슬리 다진마늘 청주 피자치즈 대하 후춧가루 마요네즈 레몬   \n",
       "4944  소금 타임 올리브오일 아스파라거스 녹인버터 새송이버섯 로즈마리 후춧가루 편마늘 방울...   \n",
       "4945                            다진파슬리 달걀 피자치즈 단호박 슬라이스햄   \n",
       "4946         소금 타임 디종머스타드 코코넛밀크 후춧가루 두유 뉴트리셔널이스트 파슬리 대파   \n",
       "\n",
       "                                                   요리방법  \\\n",
       "0     ['쌀은 씻어 채에 받쳐 30분 정도 불려주세요.\\xa0', '소세지는 모양대로 슬...   \n",
       "1     ['방울토마토는 반으로 썰어주세요.\\xa0파슬리는 다져주세요.', '냄비에 파스타면...   \n",
       "2     ['브리치즈에 칼집을 넣어주세요. 마늘은 편을 썰어주세요.\\xa0', '오븐용기에 ...   \n",
       "3     ['복숭아는 씨를 빼고 웨지 모양으로 썰어주세요. 작은 것은 반으로 썰어 주세요.\\...   \n",
       "4     ['또띠아를 반으로 자른 후 원 뿔 모양으로 둥글게 말아 나무 꼬치로 가장자리를 고...   \n",
       "...                                                 ...   \n",
       "4942  ['골뱅이는 물기를 제거한 후 튀김가루를 묻혀주세요. 튀김반죽 재료를 넣고 섞은 후...   \n",
       "4943  ['대하의 수염과 다리를 잘라 손질해 주세요. 등을 따라 껍데기에 가위집을 내고 칼...   \n",
       "4944  ['돈마호크를 밑간 재료에 10분간 재워주세요.', '법랑 접시에 석쇠를 놓고 돈마...   \n",
       "4945  ['법랑 접시에 석쇠를 놓고 깨끗이 씻은 단호박을 올려 1단에 넣고 광파오븐 수동 ...   \n",
       "4946  ['냄비에 비건 크림 재료를 붓고 약불에서 10분간 저어가며 끓여주세요.', '깨끗...   \n",
       "\n",
       "                                                     설명  재료수  소요시간  \\\n",
       "0     올리브를 넣어 이국적인 감칠맛이 매력적인 솥 밥. 별다른 양념없이도 술술 넘어가는 ...   10    30   \n",
       "1     냄비에 파스타와 토마토, 올리브 등 재료를 넣고 물을 부은 후 끓이면 완성되는 초간...    9    20   \n",
       "2     브리치즈와 토마토, 오일과 허브를 뿌린 후 오븐에 구워내 보세요. 와인안주로 활용하...    8    30   \n",
       "3     복숭아에 멋진 그릴 자국을 내보세요. 여름을 맞아 제철인 단단한 복숭아를 그릴에 구...   10    25   \n",
       "4     아보카도는 불포화 지방산이 풍부해 콜레스테롤 수치를 낮추고 혈관건강에 유익해요. 게...    9    20   \n",
       "...                                                 ...  ...   ...   \n",
       "4942  특유의 쫄깃한 식감이 매력적인 골뱅이. 지금까지 골뱅이무침만 먹어 오셨다면, 오늘은...    9    25   \n",
       "4943  비주얼부터 감탄에 감탄을 부르는 대하치즈구이! 탱글탱글한 대하를 동그랗게 펼친 후 ...    8    30   \n",
       "4944  소고기에 토마호크가 있다면, 돼지고기엔 돈마호크가 있죠. 돈마호크는 돼지고기의 삼겹...   11    30   \n",
       "4945  노란빛의 달콤한 속살을 가진 단호박은 식이섬유가 많고 열량이 낮아 다이어트에 효과적...    5    30   \n",
       "4946  대파의 무한변신, 대파그라탕! 대파의 은은한 단맛과 향이 매력적인 요리인데요. 특히...    9    30   \n",
       "\n",
       "                                                     링크  \\\n",
       "0     https://wtable.co.kr/recipes/rF7F5gmLrySsw7ZXZ...   \n",
       "1     https://wtable.co.kr/recipes/EzDURnKruCpR2nGxZ...   \n",
       "2     https://wtable.co.kr/recipes/Tzr7zXZuJvm35s1wd...   \n",
       "3     https://wtable.co.kr/recipes/RofraF8aFP5u5rqeX...   \n",
       "4     https://wtable.co.kr/recipes/3PW95soZHRArnzsYB...   \n",
       "...                                                 ...   \n",
       "4942  https://wtable.co.kr/recipes/8afBworBmh46MEuuM...   \n",
       "4943  https://wtable.co.kr/recipes/fgVuSyhNShABoMvcd...   \n",
       "4944  https://wtable.co.kr/recipes/nZ2EMyCWvh8jo7Y9S...   \n",
       "4945  https://wtable.co.kr/recipes/JERayqDgKrLf4fawy...   \n",
       "4946  https://wtable.co.kr/recipes/JyHPoLXkZ5m8Xu9rt...   \n",
       "\n",
       "                                                     사진  질병  \\\n",
       "0     https://static.wtable.co.kr/image/production/s...  일반   \n",
       "1     https://static.wtable.co.kr/image/production/s...  일반   \n",
       "2     https://static.wtable.co.kr/image/production/s...  일반   \n",
       "3     https://static.wtable.co.kr/image/production/s...  일반   \n",
       "4     https://static.wtable.co.kr/image/production/s...  일반   \n",
       "...                                                 ...  ..   \n",
       "4942  https://static.wtable.co.kr/image/production/s...  일반   \n",
       "4943  https://static.wtable.co.kr/image/production/s...  일반   \n",
       "4944  https://static.wtable.co.kr/image/production/s...  일반   \n",
       "4945  https://static.wtable.co.kr/image/production/s...  비만   \n",
       "4946  https://static.wtable.co.kr/image/production/s...  일반   \n",
       "\n",
       "                                                feature  \\\n",
       "0     소시지 올리브오일 쌀 치킨스톡파우더 물 후춧가루 파마산치즈 파슬리 올리브 샬롯올리브...   \n",
       "1     파스타면 소금 올리브오일 물 후춧가루 파슬리 올리브 방울토마토 케이퍼원 팟 파스타냄...   \n",
       "2     브리치즈 마늘 올리브오일 바게트 꿀 로즈마리 후춧가루 방울토마토그릴드 브리치즈브리치...   \n",
       "3     소금 루꼴라 복숭아 올리브오일 화이트발사믹 민트잎 꿀 후춧가루 방울토마토 부라타치즈...   \n",
       "4     소금 양파 올리브오일 아보카도 고수 토마토 토르티야 슈파마산치즈 레몬과카몰리 부리또...   \n",
       "...                                                 ...   \n",
       "4942  설탕 골뱅이통조림 물 튀김가루 간장 식초 고춧가루 식용유 대파골뱅이튀김과 파채특유의...   \n",
       "4943  다진파슬리 다진마늘 청주 피자치즈 대하 후춧가루 마요네즈 레몬대하치즈구이비주얼부터 ...   \n",
       "4944  소금 타임 올리브오일 아스파라거스 녹인버터 새송이버섯 로즈마리 후춧가루 편마늘 방울...   \n",
       "4945  다진파슬리 달걀 피자치즈 단호박 슬라이스햄단호박 에그슬럿노란빛의 달콤한 속살을 가진...   \n",
       "4946  소금 타임 디종머스타드 코코넛밀크 후춧가루 두유 뉴트리셔널이스트 파슬리 대파대파그라...   \n",
       "\n",
       "                          ko-sroberta-multitask-feature  \n",
       "0     [0.088191085, -0.08414504, -0.14284688, -0.264...  \n",
       "1     [-0.053257108, 0.070922054, -0.02161145, -0.61...  \n",
       "2     [-0.071512364, -0.16087213, -0.052535467, 0.07...  \n",
       "3     [-0.070178695, 0.05069192, -0.26207393, 0.2856...  \n",
       "4     [-0.0049587316, 0.069201306, -0.17497921, 0.61...  \n",
       "...                                                 ...  \n",
       "4942  [-0.27840194, 0.03972874, 0.09049826, 0.318712...  \n",
       "4943  [0.03511691, 0.22847946, 0.34631813, 0.2503743...  \n",
       "4944  [0.22016503, -0.15433419, -0.065425135, 0.0733...  \n",
       "4945  [0.08519404, -0.30381483, 0.46431497, 0.184560...  \n",
       "4946  [-0.7958256, -0.061069977, 0.3894541, -0.46613...  \n",
       "\n",
       "[4947 rows x 13 columns]"
      ]
     },
     "execution_count": 20,
     "metadata": {},
     "output_type": "execute_result"
    }
   ],
   "source": [
    "df = df[['요리', '종류', '난이도', '재료', '요리방법', '설명', '재료수', '소요시간', '링크', '사진', '질병',\n",
    "         'feature', 'ko-sroberta-multitask-feature']]\n",
    "df"
   ]
  },
  {
   "cell_type": "code",
   "execution_count": 21,
   "metadata": {},
   "outputs": [],
   "source": [
    "df.to_pickle('data/compact_kosroberta_recipes.pkl')\n",
    "df = pd.read_pickle('data/compact_kosroberta_recipes.pkl')"
   ]
  },
  {
   "cell_type": "code",
   "execution_count": 22,
   "metadata": {},
   "outputs": [
    {
     "data": {
      "text/html": [
       "<div>\n",
       "<style scoped>\n",
       "    .dataframe tbody tr th:only-of-type {\n",
       "        vertical-align: middle;\n",
       "    }\n",
       "\n",
       "    .dataframe tbody tr th {\n",
       "        vertical-align: top;\n",
       "    }\n",
       "\n",
       "    .dataframe thead th {\n",
       "        text-align: right;\n",
       "    }\n",
       "</style>\n",
       "<table border=\"1\" class=\"dataframe\">\n",
       "  <thead>\n",
       "    <tr style=\"text-align: right;\">\n",
       "      <th></th>\n",
       "      <th>요리</th>\n",
       "      <th>종류</th>\n",
       "      <th>난이도</th>\n",
       "      <th>재료</th>\n",
       "      <th>요리방법</th>\n",
       "      <th>설명</th>\n",
       "      <th>재료수</th>\n",
       "      <th>소요시간</th>\n",
       "      <th>링크</th>\n",
       "      <th>사진</th>\n",
       "      <th>질병</th>\n",
       "      <th>feature</th>\n",
       "      <th>ko-sroberta-multitask-feature</th>\n",
       "    </tr>\n",
       "  </thead>\n",
       "  <tbody>\n",
       "    <tr>\n",
       "      <th>0</th>\n",
       "      <td>올리브 소시지 솥밥</td>\n",
       "      <td>메인요리</td>\n",
       "      <td>쉬움</td>\n",
       "      <td>소시지 올리브오일 쌀 치킨스톡파우더 물 후춧가루 파마산치즈 파슬리 올리브 샬롯</td>\n",
       "      <td>['쌀은 씻어 채에 받쳐 30분 정도 불려주세요.\\xa0', '소세지는 모양대로 슬...</td>\n",
       "      <td>올리브를 넣어 이국적인 감칠맛이 매력적인 솥 밥. 별다른 양념없이도 술술 넘어가는 ...</td>\n",
       "      <td>10</td>\n",
       "      <td>30</td>\n",
       "      <td>https://wtable.co.kr/recipes/rF7F5gmLrySsw7ZXZ...</td>\n",
       "      <td>https://static.wtable.co.kr/image/production/s...</td>\n",
       "      <td>일반</td>\n",
       "      <td>소시지 올리브오일 쌀 치킨스톡파우더 물 후춧가루 파마산치즈 파슬리 올리브 샬롯올리브...</td>\n",
       "      <td>[0.088191085, -0.08414504, -0.14284688, -0.264...</td>\n",
       "    </tr>\n",
       "  </tbody>\n",
       "</table>\n",
       "</div>"
      ],
      "text/plain": [
       "           요리    종류 난이도                                           재료  \\\n",
       "0  올리브 소시지 솥밥  메인요리  쉬움  소시지 올리브오일 쌀 치킨스톡파우더 물 후춧가루 파마산치즈 파슬리 올리브 샬롯   \n",
       "\n",
       "                                                요리방법  \\\n",
       "0  ['쌀은 씻어 채에 받쳐 30분 정도 불려주세요.\\xa0', '소세지는 모양대로 슬...   \n",
       "\n",
       "                                                  설명  재료수  소요시간  \\\n",
       "0  올리브를 넣어 이국적인 감칠맛이 매력적인 솥 밥. 별다른 양념없이도 술술 넘어가는 ...   10    30   \n",
       "\n",
       "                                                  링크  \\\n",
       "0  https://wtable.co.kr/recipes/rF7F5gmLrySsw7ZXZ...   \n",
       "\n",
       "                                                  사진  질병  \\\n",
       "0  https://static.wtable.co.kr/image/production/s...  일반   \n",
       "\n",
       "                                             feature  \\\n",
       "0  소시지 올리브오일 쌀 치킨스톡파우더 물 후춧가루 파마산치즈 파슬리 올리브 샬롯올리브...   \n",
       "\n",
       "                       ko-sroberta-multitask-feature  \n",
       "0  [0.088191085, -0.08414504, -0.14284688, -0.264...  "
      ]
     },
     "execution_count": 22,
     "metadata": {},
     "output_type": "execute_result"
    }
   ],
   "source": [
    "df.head(1)"
   ]
  },
  {
   "attachments": {},
   "cell_type": "markdown",
   "metadata": {},
   "source": [
    "## DB에 임베딩 벡터 저장하고, 불러오는 과정\n",
    "- 위에서 적용한 pickle 형식으로 데이터를 저장하는 것이 더 효율적이라고 판단됨"
   ]
  },
  {
   "cell_type": "code",
   "execution_count": 23,
   "metadata": {},
   "outputs": [],
   "source": [
    "# # 데이터 프레임의 embedding\n",
    "# def save_embeddings_to_db(df, db_file, model):\n",
    "#     conn = sqlite3.connect(db_file)\n",
    "#     cursor = conn.cursor()\n",
    "#     cursor.execute('''CREATE TABLE IF NOT EXISTS embedding_table (id INTEGER PRIMARY KEY, embedding_data BLOB)''')\n",
    "#     conn.commit()\n",
    "\n",
    "#     for index, row in df.iterrows():\n",
    "#         text = row['feature']\n",
    "#         embedding = model.encode(text)\n",
    "#         embedding_binary = pickle.dumps(embedding)\n",
    "#         cursor.execute('''INSERT INTO embedding_table (id, embedding_data) VALUES (?,?)''', (index, embedding_binary))\n",
    "#         conn.commit()\n",
    "\n",
    "#     conn.close()"
   ]
  },
  {
   "cell_type": "code",
   "execution_count": 24,
   "metadata": {},
   "outputs": [],
   "source": [
    "# save_embeddings_to_db(df, 'embedding.db', model)"
   ]
  },
  {
   "cell_type": "code",
   "execution_count": 25,
   "metadata": {},
   "outputs": [],
   "source": [
    "# def add_embeddings_to_df(df, db_file):\n",
    "#     conn = sqlite3.connect(db_file)\n",
    "#     cursor = conn.cursor()\n",
    "\n",
    "#     # 데이터베이스에서 임베딩 정보 불러오기\n",
    "#     cursor.execute('''SELECT id, embedding_data FROM embedding_table''')\n",
    "#     rows = cursor.fetchall()\n",
    "    \n",
    "#     # 불러온 임베딩 정보를 딕셔너리로 변환\n",
    "#     embeddings_dict = {}\n",
    "#     for row in rows:\n",
    "#         index = row[0]\n",
    "#         embedding_binary = row[1]\n",
    "#         embedding = pickle.loads(embedding_binary)\n",
    "#         embeddings_dict[index] = embedding\n",
    "    \n",
    "#     # 데이터프레임에 임베딩 정보 추가\n",
    "#     embeddings = []\n",
    "#     for index, row in df.iterrows():\n",
    "#         if index in embeddings_dict:\n",
    "#             embedding = embeddings_dict[index]\n",
    "#             embeddings.append(embedding)\n",
    "#         else:\n",
    "#             embeddings.append(None)\n",
    "#     df['embeddings'] = embeddings\n",
    "    \n",
    "#     conn.close()\n",
    "#     return df\n"
   ]
  },
  {
   "cell_type": "code",
   "execution_count": 26,
   "metadata": {},
   "outputs": [],
   "source": [
    "# add_embeddings_to_df(df, 'embedding.db')\n",
    "# df"
   ]
  }
 ],
 "metadata": {
  "kernelspec": {
   "display_name": "Python 3 (ipykernel)",
   "language": "python",
   "name": "python3"
  },
  "language_info": {
   "codemirror_mode": {
    "name": "ipython",
    "version": 3
   },
   "file_extension": ".py",
   "mimetype": "text/x-python",
   "name": "python",
   "nbconvert_exporter": "python",
   "pygments_lexer": "ipython3",
   "version": "3.11.7"
  }
 },
 "nbformat": 4,
 "nbformat_minor": 4
}
