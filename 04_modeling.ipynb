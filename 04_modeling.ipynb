{
 "cells": [
  {
   "attachments": {},
   "cell_type": "markdown",
   "metadata": {},
   "source": [
    "# NLP를 활용한 레시피 추천 챗봇 구현\n",
    "**개요**\n",
    "- Collection \n",
    "- Preprocessing\n",
    "- EDA\n",
    "- Embeddings\n",
    "- Modeling\n",
    "- Streamlit"
   ]
  },
  {
   "attachments": {},
   "cell_type": "markdown",
   "metadata": {},
   "source": [
    "## 5. Modeling\n",
    "**모델링 과정**\n",
    "1. 사전 학습된 모델을 Sentence Transformer 를 통해 불러오기\n",
    "2. 수집하고 기본적인 전처리를 거친 데이터를 위의 모델을 통해 임베딩 벡터로 변환한 파생변수 생성하기\n",
    "3. input 으로 사용자가 재료를 포함한 문자열을 입력하면 문장을 벡터화하여 기존의 임베딩 벡터와 코사인 유사도를 구하는 함수\n",
    "4. 코사인 유사도 상위 기준으로 n개를 output 으로 추천\n",
    "5. OpenAI 의 API 를 활용하여 사용자의 문장 형태 input 의 의도를 파악하여 모델링 함수를 실행하도록 연동\n",
    "6. streamlit 에 연동하여 배포\n"
   ]
  },
  {
   "attachments": {},
   "cell_type": "markdown",
   "metadata": {},
   "source": [
    "### 라이브러리 import"
   ]
  },
  {
   "cell_type": "code",
   "execution_count": 1,
   "metadata": {},
   "outputs": [],
   "source": [
    "# 데이터 분석\n",
    "import pandas as pd\n",
    "import numpy as np\n",
    "\n",
    "# 데이터 시각화\n",
    "import matplotlib.pyplot as plt\n",
    "import seaborn as sns\n",
    "\n",
    "# 진행시간 표시\n",
    "import swifter\n",
    "from tqdm.notebook import tqdm\n",
    "tqdm.pandas()"
   ]
  },
  {
   "cell_type": "code",
   "execution_count": 2,
   "metadata": {},
   "outputs": [],
   "source": [
    "# 파이토치\n",
    "import torch\n",
    "\n",
    "# 문장 임베딩, transformer 유틸리티\n",
    "from transformers import AutoTokenizer, AutoModel\n",
    "from sentence_transformers import SentenceTransformer, util\n",
    "from sentence_transformers import SentenceTransformer, models"
   ]
  },
  {
   "cell_type": "code",
   "execution_count": 3,
   "metadata": {},
   "outputs": [],
   "source": [
    "# 객체 복사\n",
    "import copy\n",
    "\n",
    "# JSON 형식 데이터 처리\n",
    "import json\n",
    "\n",
    "# 데이터 수집\n",
    "import requests"
   ]
  },
  {
   "cell_type": "code",
   "execution_count": 4,
   "metadata": {},
   "outputs": [],
   "source": [
    "# 데이터베이스 활용\n",
    "import sqlite3 \n",
    "import pickle"
   ]
  },
  {
   "cell_type": "code",
   "execution_count": 5,
   "metadata": {},
   "outputs": [],
   "source": [
    "# OpenAI API 활용\n",
    "import openai \n",
    "import os # 운영체제\n",
    "import sys # 파이썬 변수, 함수 엑세스 \n",
    "from dotenv import load_dotenv # 환경 변수 로드(API Key 보안)\n",
    "\n",
    "os.environ[\"TOKENIZERS_PARALLELISM\"] = \"false\"\n",
    "load_dotenv()\n",
    "openai.api_key = os.getenv('OPENAI_API_KEY')"
   ]
  },
  {
   "cell_type": "code",
   "execution_count": 6,
   "metadata": {},
   "outputs": [
    {
     "data": {
      "text/plain": [
       "'win32'"
      ]
     },
     "execution_count": 6,
     "metadata": {},
     "output_type": "execute_result"
    }
   ],
   "source": [
    "# 실행 os 확인\n",
    "cur_os = sys.platform\n",
    "cur_os"
   ]
  },
  {
   "attachments": {},
   "cell_type": "markdown",
   "metadata": {},
   "source": [
    "### 데이터 불러오기"
   ]
  },
  {
   "cell_type": "code",
   "execution_count": 7,
   "metadata": {},
   "outputs": [
    {
     "data": {
      "text/plain": [
       "(4947, 13)"
      ]
     },
     "execution_count": 7,
     "metadata": {},
     "output_type": "execute_result"
    }
   ],
   "source": [
    "df = pd.read_pickle('data/compact_kosroberta_recipes.pkl')\n",
    "df.shape"
   ]
  },
  {
   "attachments": {},
   "cell_type": "markdown",
   "metadata": {},
   "source": [
    "### 파생 변수\n",
    "- feature1 = '재료'\n",
    "- feature2 = '재료' + '요리'\n",
    "- feature3 = '재료' + '요리' + '종류'\n",
    "- feature4 = '재료' + '요리' + '종류' + '난이도'\n",
    "- feature5 = '재료' + '요리' + '종류' + '난이도' + '요리방법'\n",
    "- **feature = '재료' + '요리' + '설명' + '종류' + '난이도' + '요리방법'**"
   ]
  },
  {
   "attachments": {},
   "cell_type": "markdown",
   "metadata": {},
   "source": [
    "### 모델 불러오기\n",
    "- model : Sentence Transformer\n",
    "- pre trained model : `jhgan/ko-sroberta-multitask`"
   ]
  },
  {
   "cell_type": "code",
   "execution_count": 8,
   "metadata": {},
   "outputs": [],
   "source": [
    "model_name = 'jhgan/ko-sroberta-multitask'"
   ]
  },
  {
   "cell_type": "code",
   "execution_count": 9,
   "metadata": {},
   "outputs": [
    {
     "data": {
      "text/plain": [
       "SentenceTransformer(\n",
       "  (0): Transformer({'max_seq_length': 128, 'do_lower_case': False}) with Transformer model: RobertaModel \n",
       "  (1): Pooling({'word_embedding_dimension': 768, 'pooling_mode_cls_token': False, 'pooling_mode_mean_tokens': True, 'pooling_mode_max_tokens': False, 'pooling_mode_mean_sqrt_len_tokens': False, 'pooling_mode_weightedmean_tokens': False, 'pooling_mode_lasttoken': False, 'include_prompt': True})\n",
       ")"
      ]
     },
     "execution_count": 9,
     "metadata": {},
     "output_type": "execute_result"
    }
   ],
   "source": [
    "model = SentenceTransformer(model_name)\n",
    "model"
   ]
  },
  {
   "cell_type": "code",
   "execution_count": 10,
   "metadata": {},
   "outputs": [
    {
     "data": {
      "text/plain": [
       "\"소시지 올리브오일 쌀 치킨스톡파우더 물 후춧가루 파마산치즈 파슬리 올리브 샬롯올리브 소시지 솥밥올리브를 넣어 이국적인 감칠맛이 매력적인 솥 밥. 별다른 양념없이도 술술 넘어가는 짭조름한 소시지가 바로 치트키랍니다~ 잘 익은 솥 밥에 파마산 치즈까지 듬뿍 뿌려 환상의 조화를 느껴보세요. 메인요리쉬움['쌀은 씻어 채에 받쳐 30분 정도 불려주세요.\\\\xa0', '소세지는 모양대로 슬라이스 해주세요. 샬롯은 잘게 썰어주세요. 파슬리는 다져주세요.', '냄비에 올리브오일을 두르고 다진 샬롯을 볶다가 쌀과 물, 치킨스톡을 넣고 센불에서 저어가며 3분 정도 끓여주세요. 뚜껑을 덮고 중약불에서 10분 정도 밥을 지어주세요.\\\\xa0', '그린올리브와 썰어둔 소세지를 올려 뚜껑을 덮고 3분정도 익힌 후 불을 끄로 10분간 뜸을 들여주세요.\\\\xa0', '파마산 치즈와 다진 파슬리를 뿌리고 골고루 섞어주세요. 기호에 따라 올리브오일, 후추를 뿌려 맛있게 즐겨주세요. \\\\r\\\\n']일반\""
      ]
     },
     "execution_count": 10,
     "metadata": {},
     "output_type": "execute_result"
    }
   ],
   "source": [
    "df['feature'][0]"
   ]
  },
  {
   "attachments": {},
   "cell_type": "markdown",
   "metadata": {},
   "source": [
    "## 콘텐츠 추천 함수(코사인 유사도 기반)"
   ]
  },
  {
   "cell_type": "code",
   "execution_count": 33,
   "metadata": {},
   "outputs": [],
   "source": [
    "def get_similar_recipes(query, model, df, exclude_ingredients=None, health=None, intent=None):\n",
    "    data = {'요리': df['요리'], 'feature': df['ko-sroberta-multitask-feature']}\n",
    "    query_encode = model.encode(query)\n",
    "    query_encode = np.array(query_encode)  # NumPy 배열로 변환\n",
    "    cos_scores = util.pytorch_cos_sim(query_encode, data['feature'])[0]\n",
    "    top_results = torch.topk(cos_scores, k=100)\n",
    "\n",
    "    top_indices = top_results[1].numpy()\n",
    "\n",
    "    # exclude_ingredients 조건 적용\n",
    "    if exclude_ingredients:\n",
    "        if len(exclude_ingredients) > 1:\n",
    "            exclude_mask = np.array([any(exclude in row for exclude in exclude_ingredients) for row in df['재료']])\n",
    "        else:\n",
    "            exclude_mask = np.array([exclude_ingredients[0] in row for row in df['재료']])\n",
    "        exclude_idx = np.where(exclude_mask)[0]\n",
    "        top_indices = np.setdiff1d(top_indices, exclude_idx)\n",
    "\n",
    "    # health 조건 적용\n",
    "    if health:\n",
    "        include_mask = np.array([any(h in row for h in health) for row in df['질병']])\n",
    "        include_idx = np.where(include_mask)[0]\n",
    "        top_indices = np.intersect1d(top_indices, include_idx)\n",
    "\n",
    "    filtered_scores = cos_scores[top_indices]\n",
    "    top_filtered_results = torch.topk(torch.tensor(filtered_scores).clone().detach(), k=len(filtered_scores))\n",
    "\n",
    "    if intent == '1':\n",
    "        result_df = df.iloc[top_indices[top_filtered_results.indices], :][['요리', '종류', '재료', '설명', '난이도', '링크']]\n",
    "        result_df = result_df.drop_duplicates(subset=['링크']).head(3)\n",
    "    elif intent == '2':\n",
    "        result_df = df.iloc[top_indices[top_filtered_results.indices], :][['요리', '종류', '재료', '설명', '난이도', '링크']]\n",
    "        result_df = result_df.drop_duplicates(subset=['링크']).sample(3)\n",
    "    else:\n",
    "        result_df = df.iloc[top_indices[top_filtered_results.indices], :][['요리', '종류', '재료', '설명', '난이도', '링크']]\n",
    "        result_df = result_df.drop_duplicates(subset=['링크']).head(5)\n",
    "    \n",
    "    return result_df"
   ]
  },
  {
   "cell_type": "code",
   "execution_count": 15,
   "metadata": {},
   "outputs": [
    {
     "name": "stdout",
     "output_type": "stream",
     "text": [
      "Index(['요리', '종류', '난이도', '재료', '요리방법', '설명', '재료수', '소요시간', '링크', '사진', '질병',\n",
      "       'feature', 'ko-sroberta-multitask-feature'],\n",
      "      dtype='object')\n"
     ]
    }
   ],
   "source": [
    "print(df.columns)"
   ]
  },
  {
   "cell_type": "code",
   "execution_count": 17,
   "metadata": {},
   "outputs": [
    {
     "data": {
      "text/html": [
       "<div>\n",
       "<style scoped>\n",
       "    .dataframe tbody tr th:only-of-type {\n",
       "        vertical-align: middle;\n",
       "    }\n",
       "\n",
       "    .dataframe tbody tr th {\n",
       "        vertical-align: top;\n",
       "    }\n",
       "\n",
       "    .dataframe thead th {\n",
       "        text-align: right;\n",
       "    }\n",
       "</style>\n",
       "<table border=\"1\" class=\"dataframe\">\n",
       "  <thead>\n",
       "    <tr style=\"text-align: right;\">\n",
       "      <th></th>\n",
       "      <th>요리</th>\n",
       "      <th>종류</th>\n",
       "      <th>재료</th>\n",
       "      <th>설명</th>\n",
       "      <th>난이도</th>\n",
       "      <th>링크</th>\n",
       "    </tr>\n",
       "  </thead>\n",
       "  <tbody>\n",
       "    <tr>\n",
       "      <th>4074</th>\n",
       "      <td>파인애플 오이 샐러드</td>\n",
       "      <td>안주</td>\n",
       "      <td>라임즙 양파 소금 라임제스트 올리브오일 고수 라임 후춧가루 파인애플 오이 메이플시럽</td>\n",
       "      <td>Welcome! 우식 와인 Bar!\\r\\n 말만 들어도 시원해지는 샐러드 레시피!...</td>\n",
       "      <td>쉬움</td>\n",
       "      <td>https://wtable.co.kr/recipes/Mb7rr7JyP9CnKAiin...</td>\n",
       "    </tr>\n",
       "    <tr>\n",
       "      <th>2322</th>\n",
       "      <td>[장진아] 썸머 토스트</td>\n",
       "      <td>간단요리</td>\n",
       "      <td>홀그레인머스터드 올리브오일 참나물 매실청 그릭요거트 참외 먹물치아바타</td>\n",
       "      <td>여름에 가장 충만한 맛과 영양을 가진 제철 나물과 과일이 만났어요. 참나물과 미니참...</td>\n",
       "      <td>쉬움</td>\n",
       "      <td>https://wtable.co.kr/recipes/BzmvhcC28CxYobRga...</td>\n",
       "    </tr>\n",
       "    <tr>\n",
       "      <th>2111</th>\n",
       "      <td>용과 샐러드</td>\n",
       "      <td>간단요리</td>\n",
       "      <td>소금 화이트인식초 올리브오일 용과 파파야</td>\n",
       "      <td>비주얼만으로도 산뜻한 여름을 느낄 수 있는 용과 샐러드! 부드러운 식감의 용과에 향...</td>\n",
       "      <td>쉬움</td>\n",
       "      <td>https://wtable.co.kr/recipes/yvM5LWPJZmYYyoPZE...</td>\n",
       "    </tr>\n",
       "  </tbody>\n",
       "</table>\n",
       "</div>"
      ],
      "text/plain": [
       "                요리    종류                                              재료  \\\n",
       "4074   파인애플 오이 샐러드    안주  라임즙 양파 소금 라임제스트 올리브오일 고수 라임 후춧가루 파인애플 오이 메이플시럽   \n",
       "2322  [장진아] 썸머 토스트  간단요리          홀그레인머스터드 올리브오일 참나물 매실청 그릭요거트 참외 먹물치아바타   \n",
       "2111        용과 샐러드  간단요리                          소금 화이트인식초 올리브오일 용과 파파야   \n",
       "\n",
       "                                                     설명 난이도  \\\n",
       "4074   Welcome! 우식 와인 Bar!\\r\\n 말만 들어도 시원해지는 샐러드 레시피!...  쉬움   \n",
       "2322  여름에 가장 충만한 맛과 영양을 가진 제철 나물과 과일이 만났어요. 참나물과 미니참...  쉬움   \n",
       "2111  비주얼만으로도 산뜻한 여름을 느낄 수 있는 용과 샐러드! 부드러운 식감의 용과에 향...  쉬움   \n",
       "\n",
       "                                                     링크  \n",
       "4074  https://wtable.co.kr/recipes/Mb7rr7JyP9CnKAiin...  \n",
       "2322  https://wtable.co.kr/recipes/BzmvhcC28CxYobRga...  \n",
       "2111  https://wtable.co.kr/recipes/yvM5LWPJZmYYyoPZE...  "
      ]
     },
     "execution_count": 17,
     "metadata": {},
     "output_type": "execute_result"
    }
   ],
   "source": [
    "# 일반 추천\n",
    "include = '여름 메뉴 추천해줘'\n",
    "intent = '1'\n",
    "exclude = []\n",
    "health = []\n",
    "result = get_similar_recipes(include, model, df, exclude_ingredients=exclude, health=health, intent=intent)\n",
    "result"
   ]
  },
  {
   "cell_type": "code",
   "execution_count": 18,
   "metadata": {},
   "outputs": [
    {
     "data": {
      "text/html": [
       "<div>\n",
       "<style scoped>\n",
       "    .dataframe tbody tr th:only-of-type {\n",
       "        vertical-align: middle;\n",
       "    }\n",
       "\n",
       "    .dataframe tbody tr th {\n",
       "        vertical-align: top;\n",
       "    }\n",
       "\n",
       "    .dataframe thead th {\n",
       "        text-align: right;\n",
       "    }\n",
       "</style>\n",
       "<table border=\"1\" class=\"dataframe\">\n",
       "  <thead>\n",
       "    <tr style=\"text-align: right;\">\n",
       "      <th></th>\n",
       "      <th>요리</th>\n",
       "      <th>종류</th>\n",
       "      <th>재료</th>\n",
       "      <th>설명</th>\n",
       "      <th>난이도</th>\n",
       "      <th>링크</th>\n",
       "    </tr>\n",
       "  </thead>\n",
       "  <tbody>\n",
       "    <tr>\n",
       "      <th>4537</th>\n",
       "      <td>미역 콩국수</td>\n",
       "      <td>다이어트</td>\n",
       "      <td>미역국수 소금 얼음 두부 볶은땅콩 두유 오이 통깨 방울토마토</td>\n",
       "      <td>한 번 맛보면 빠져나올 수 없는 맛, 콩국수! 시원하고 고소한 맛 덕분에 여름철 ...</td>\n",
       "      <td>쉬움</td>\n",
       "      <td>https://wtable.co.kr/recipes/Y6BSSm38nwV7q8Bph...</td>\n",
       "    </tr>\n",
       "    <tr>\n",
       "      <th>4538</th>\n",
       "      <td>미역 비빔국수</td>\n",
       "      <td>다이어트</td>\n",
       "      <td>비빔소스 매실청 당근 해조미미역국수 오이 참기름 통깨</td>\n",
       "      <td>언제 먹어도 맛있는 비빔국수! 다만 밀가루 면을 사용해서 자주 먹기에는 조금 부담...</td>\n",
       "      <td>쉬움</td>\n",
       "      <td>https://wtable.co.kr/recipes/yBejj8eRpyjMiuprF...</td>\n",
       "    </tr>\n",
       "    <tr>\n",
       "      <th>3371</th>\n",
       "      <td>오이무침</td>\n",
       "      <td>한식</td>\n",
       "      <td>소금 양파 설탕 다진마늘 고추장 올리고당 간장 식초 오이 고춧가루 참기름 통깨</td>\n",
       "      <td>시원하고 아삭한 여름 대표 채소! 수분이 풍부하고 부종제거에 효과적인 건강채소 오이...</td>\n",
       "      <td>쉬움</td>\n",
       "      <td>https://wtable.co.kr/recipes/jdQ71z77Ms4GkCzXm...</td>\n",
       "    </tr>\n",
       "  </tbody>\n",
       "</table>\n",
       "</div>"
      ],
      "text/plain": [
       "           요리    종류                                           재료  \\\n",
       "4537   미역 콩국수  다이어트            미역국수 소금 얼음 두부 볶은땅콩 두유 오이 통깨 방울토마토   \n",
       "4538  미역 비빔국수  다이어트                비빔소스 매실청 당근 해조미미역국수 오이 참기름 통깨   \n",
       "3371     오이무침    한식  소금 양파 설탕 다진마늘 고추장 올리고당 간장 식초 오이 고춧가루 참기름 통깨   \n",
       "\n",
       "                                                     설명 난이도  \\\n",
       "4537   한 번 맛보면 빠져나올 수 없는 맛, 콩국수! 시원하고 고소한 맛 덕분에 여름철 ...  쉬움   \n",
       "4538   언제 먹어도 맛있는 비빔국수! 다만 밀가루 면을 사용해서 자주 먹기에는 조금 부담...  쉬움   \n",
       "3371  시원하고 아삭한 여름 대표 채소! 수분이 풍부하고 부종제거에 효과적인 건강채소 오이...  쉬움   \n",
       "\n",
       "                                                     링크  \n",
       "4537  https://wtable.co.kr/recipes/Y6BSSm38nwV7q8Bph...  \n",
       "4538  https://wtable.co.kr/recipes/yBejj8eRpyjMiuprF...  \n",
       "3371  https://wtable.co.kr/recipes/jdQ71z77Ms4GkCzXm...  "
      ]
     },
     "execution_count": 18,
     "metadata": {},
     "output_type": "execute_result"
    }
   ],
   "source": [
    "# 재추천\n",
    "include = '여름 메뉴 추천해줘'\n",
    "intent = '2'\n",
    "exclude = []\n",
    "health = []\n",
    "result = get_similar_recipes(include, model, df, exclude_ingredients=exclude, health=health, intent=intent)\n",
    "result"
   ]
  },
  {
   "cell_type": "code",
   "execution_count": 19,
   "metadata": {},
   "outputs": [
    {
     "data": {
      "text/html": [
       "<div>\n",
       "<style scoped>\n",
       "    .dataframe tbody tr th:only-of-type {\n",
       "        vertical-align: middle;\n",
       "    }\n",
       "\n",
       "    .dataframe tbody tr th {\n",
       "        vertical-align: top;\n",
       "    }\n",
       "\n",
       "    .dataframe thead th {\n",
       "        text-align: right;\n",
       "    }\n",
       "</style>\n",
       "<table border=\"1\" class=\"dataframe\">\n",
       "  <thead>\n",
       "    <tr style=\"text-align: right;\">\n",
       "      <th></th>\n",
       "      <th>요리</th>\n",
       "      <th>종류</th>\n",
       "      <th>재료</th>\n",
       "      <th>설명</th>\n",
       "      <th>난이도</th>\n",
       "      <th>링크</th>\n",
       "    </tr>\n",
       "  </thead>\n",
       "  <tbody>\n",
       "    <tr>\n",
       "      <th>2322</th>\n",
       "      <td>[장진아] 썸머 토스트</td>\n",
       "      <td>간단요리</td>\n",
       "      <td>홀그레인머스터드 올리브오일 참나물 매실청 그릭요거트 참외 먹물치아바타</td>\n",
       "      <td>여름에 가장 충만한 맛과 영양을 가진 제철 나물과 과일이 만났어요. 참나물과 미니참...</td>\n",
       "      <td>쉬움</td>\n",
       "      <td>https://wtable.co.kr/recipes/BzmvhcC28CxYobRga...</td>\n",
       "    </tr>\n",
       "    <tr>\n",
       "      <th>2111</th>\n",
       "      <td>용과 샐러드</td>\n",
       "      <td>간단요리</td>\n",
       "      <td>소금 화이트인식초 올리브오일 용과 파파야</td>\n",
       "      <td>비주얼만으로도 산뜻한 여름을 느낄 수 있는 용과 샐러드! 부드러운 식감의 용과에 향...</td>\n",
       "      <td>쉬움</td>\n",
       "      <td>https://wtable.co.kr/recipes/yvM5LWPJZmYYyoPZE...</td>\n",
       "    </tr>\n",
       "    <tr>\n",
       "      <th>1805</th>\n",
       "      <td>토마토빙수</td>\n",
       "      <td>간식</td>\n",
       "      <td>설탕 완숙토마토 다진피스타치오 스노우요거트얼음 바질잎 플레인요거트 연유 토마토퓌레 우유</td>\n",
       "      <td>여름아 안녕! 여름이 점점 다가오고 있어요. 여름에 아이들이 가장 먼저 찾는 음식...</td>\n",
       "      <td>쉬움</td>\n",
       "      <td>https://wtable.co.kr/recipes/ZYJAE5LVy1wCv36Zi...</td>\n",
       "    </tr>\n",
       "  </tbody>\n",
       "</table>\n",
       "</div>"
      ],
      "text/plain": [
       "                요리    종류                                                재료  \\\n",
       "2322  [장진아] 썸머 토스트  간단요리            홀그레인머스터드 올리브오일 참나물 매실청 그릭요거트 참외 먹물치아바타   \n",
       "2111        용과 샐러드  간단요리                            소금 화이트인식초 올리브오일 용과 파파야   \n",
       "1805         토마토빙수    간식  설탕 완숙토마토 다진피스타치오 스노우요거트얼음 바질잎 플레인요거트 연유 토마토퓌레 우유   \n",
       "\n",
       "                                                     설명 난이도  \\\n",
       "2322  여름에 가장 충만한 맛과 영양을 가진 제철 나물과 과일이 만났어요. 참나물과 미니참...  쉬움   \n",
       "2111  비주얼만으로도 산뜻한 여름을 느낄 수 있는 용과 샐러드! 부드러운 식감의 용과에 향...  쉬움   \n",
       "1805   여름아 안녕! 여름이 점점 다가오고 있어요. 여름에 아이들이 가장 먼저 찾는 음식...  쉬움   \n",
       "\n",
       "                                                     링크  \n",
       "2322  https://wtable.co.kr/recipes/BzmvhcC28CxYobRga...  \n",
       "2111  https://wtable.co.kr/recipes/yvM5LWPJZmYYyoPZE...  \n",
       "1805  https://wtable.co.kr/recipes/ZYJAE5LVy1wCv36Zi...  "
      ]
     },
     "execution_count": 19,
     "metadata": {},
     "output_type": "execute_result"
    }
   ],
   "source": [
    "# 단일 제외\n",
    "include = '여름 메뉴 추천해줘'\n",
    "intent = '1'\n",
    "exclude = ['오이']\n",
    "health = []\n",
    "result = get_similar_recipes(include, model, df, exclude_ingredients=exclude, health=health, intent=intent)\n",
    "result"
   ]
  },
  {
   "cell_type": "code",
   "execution_count": 20,
   "metadata": {},
   "outputs": [
    {
     "data": {
      "text/html": [
       "<div>\n",
       "<style scoped>\n",
       "    .dataframe tbody tr th:only-of-type {\n",
       "        vertical-align: middle;\n",
       "    }\n",
       "\n",
       "    .dataframe tbody tr th {\n",
       "        vertical-align: top;\n",
       "    }\n",
       "\n",
       "    .dataframe thead th {\n",
       "        text-align: right;\n",
       "    }\n",
       "</style>\n",
       "<table border=\"1\" class=\"dataframe\">\n",
       "  <thead>\n",
       "    <tr style=\"text-align: right;\">\n",
       "      <th></th>\n",
       "      <th>요리</th>\n",
       "      <th>종류</th>\n",
       "      <th>재료</th>\n",
       "      <th>설명</th>\n",
       "      <th>난이도</th>\n",
       "      <th>링크</th>\n",
       "    </tr>\n",
       "  </thead>\n",
       "  <tbody>\n",
       "    <tr>\n",
       "      <th>2322</th>\n",
       "      <td>[장진아] 썸머 토스트</td>\n",
       "      <td>간단요리</td>\n",
       "      <td>홀그레인머스터드 올리브오일 참나물 매실청 그릭요거트 참외 먹물치아바타</td>\n",
       "      <td>여름에 가장 충만한 맛과 영양을 가진 제철 나물과 과일이 만났어요. 참나물과 미니참...</td>\n",
       "      <td>쉬움</td>\n",
       "      <td>https://wtable.co.kr/recipes/BzmvhcC28CxYobRga...</td>\n",
       "    </tr>\n",
       "    <tr>\n",
       "      <th>2111</th>\n",
       "      <td>용과 샐러드</td>\n",
       "      <td>간단요리</td>\n",
       "      <td>소금 화이트인식초 올리브오일 용과 파파야</td>\n",
       "      <td>비주얼만으로도 산뜻한 여름을 느낄 수 있는 용과 샐러드! 부드러운 식감의 용과에 향...</td>\n",
       "      <td>쉬움</td>\n",
       "      <td>https://wtable.co.kr/recipes/yvM5LWPJZmYYyoPZE...</td>\n",
       "    </tr>\n",
       "    <tr>\n",
       "      <th>15</th>\n",
       "      <td>상그리아 셔벗</td>\n",
       "      <td>메인요리</td>\n",
       "      <td>설탕 베리류 민트잎 물 상그리아</td>\n",
       "      <td>상그리아를 얼려서 만드는 시원한 셔벗.\\r\\n달콤한 과일향이 매력적인 여름 디저트에...</td>\n",
       "      <td>쉬움</td>\n",
       "      <td>https://wtable.co.kr/recipes/qaXLiNE5HiJ3ALgQ3...</td>\n",
       "    </tr>\n",
       "  </tbody>\n",
       "</table>\n",
       "</div>"
      ],
      "text/plain": [
       "                요리    종류                                      재료  \\\n",
       "2322  [장진아] 썸머 토스트  간단요리  홀그레인머스터드 올리브오일 참나물 매실청 그릭요거트 참외 먹물치아바타   \n",
       "2111        용과 샐러드  간단요리                  소금 화이트인식초 올리브오일 용과 파파야   \n",
       "15         상그리아 셔벗  메인요리                       설탕 베리류 민트잎 물 상그리아   \n",
       "\n",
       "                                                     설명 난이도  \\\n",
       "2322  여름에 가장 충만한 맛과 영양을 가진 제철 나물과 과일이 만났어요. 참나물과 미니참...  쉬움   \n",
       "2111  비주얼만으로도 산뜻한 여름을 느낄 수 있는 용과 샐러드! 부드러운 식감의 용과에 향...  쉬움   \n",
       "15    상그리아를 얼려서 만드는 시원한 셔벗.\\r\\n달콤한 과일향이 매력적인 여름 디저트에...  쉬움   \n",
       "\n",
       "                                                     링크  \n",
       "2322  https://wtable.co.kr/recipes/BzmvhcC28CxYobRga...  \n",
       "2111  https://wtable.co.kr/recipes/yvM5LWPJZmYYyoPZE...  \n",
       "15    https://wtable.co.kr/recipes/qaXLiNE5HiJ3ALgQ3...  "
      ]
     },
     "execution_count": 20,
     "metadata": {},
     "output_type": "execute_result"
    }
   ],
   "source": [
    "# 다중 제외\n",
    "include = '여름 메뉴 추천해줘'\n",
    "intent = '1'\n",
    "exclude = ['오이', '토마토']\n",
    "health = []\n",
    "result = get_similar_recipes(include, model, df, exclude_ingredients=exclude, health=health, intent=intent)\n",
    "result"
   ]
  },
  {
   "cell_type": "code",
   "execution_count": 34,
   "metadata": {},
   "outputs": [
    {
     "name": "stderr",
     "output_type": "stream",
     "text": [
      "C:\\Users\\CHAEKANG\\AppData\\Local\\Temp\\ipykernel_20720\\2061459323.py:26: UserWarning: To copy construct from a tensor, it is recommended to use sourceTensor.clone().detach() or sourceTensor.clone().detach().requires_grad_(True), rather than torch.tensor(sourceTensor).\n",
      "  top_filtered_results = torch.topk(torch.tensor(filtered_scores).clone().detach(), k=len(filtered_scores))\n"
     ]
    },
    {
     "data": {
      "text/html": [
       "<div>\n",
       "<style scoped>\n",
       "    .dataframe tbody tr th:only-of-type {\n",
       "        vertical-align: middle;\n",
       "    }\n",
       "\n",
       "    .dataframe tbody tr th {\n",
       "        vertical-align: top;\n",
       "    }\n",
       "\n",
       "    .dataframe thead th {\n",
       "        text-align: right;\n",
       "    }\n",
       "</style>\n",
       "<table border=\"1\" class=\"dataframe\">\n",
       "  <thead>\n",
       "    <tr style=\"text-align: right;\">\n",
       "      <th></th>\n",
       "      <th>요리</th>\n",
       "      <th>종류</th>\n",
       "      <th>재료</th>\n",
       "      <th>설명</th>\n",
       "      <th>난이도</th>\n",
       "      <th>링크</th>\n",
       "    </tr>\n",
       "  </thead>\n",
       "  <tbody>\n",
       "    <tr>\n",
       "      <th>2286</th>\n",
       "      <td>달걀토마토 샐러드</td>\n",
       "      <td>간단요리</td>\n",
       "      <td>홀그레인머스터드 소금 다진양파 블랙올리브 올리브유 달걀 대추토마토 새싹채소 꿀 호두 식초</td>\n",
       "      <td>영양 가득한 재료들만 모아 특별한 샐러드를 만들었어요.\\n비타민과 무기질이 가득한 ...</td>\n",
       "      <td>쉬움</td>\n",
       "      <td>https://wtable.co.kr/recipes/dYxnz6f3zPKb6Jcjq...</td>\n",
       "    </tr>\n",
       "    <tr>\n",
       "      <th>2130</th>\n",
       "      <td>꼬시래기 샐러드</td>\n",
       "      <td>간단요리</td>\n",
       "      <td>샐러드채소 현미식초 치킨스테이크 된장 매실액 꼬시래기</td>\n",
       "      <td>꼬시래기는 지방과 탄수화물 함량이 낮고 칼슘과 식이섬유가 많아 다이어트에 효과적인 ...</td>\n",
       "      <td>쉬움</td>\n",
       "      <td>https://wtable.co.kr/recipes/5cEMJ2c75qBM6x7iQ...</td>\n",
       "    </tr>\n",
       "    <tr>\n",
       "      <th>2151</th>\n",
       "      <td>닭가슴살 샐러드</td>\n",
       "      <td>간단요리</td>\n",
       "      <td>소금 다진양파 달걀 다진마늘 올리브오일 후춧가루 올리고당 간장 식초 양상추 당근 닭...</td>\n",
       "      <td>연초부터 다이어트 시작한 분들 많으시죠? 다이어터 분들이 식사로 가장 많이 찾게 되...</td>\n",
       "      <td>쉬움</td>\n",
       "      <td>https://wtable.co.kr/recipes/dGN5zEGYrh8kayxv5...</td>\n",
       "    </tr>\n",
       "    <tr>\n",
       "      <th>2216</th>\n",
       "      <td>배추땅콩칠리샐러드</td>\n",
       "      <td>간단요리</td>\n",
       "      <td>배추 칠리소스 후춧가루 사과식초 땅콩 부추</td>\n",
       "      <td>배추는 씹으면 씹을수록 고소한 맛이 진하게 나서 생으로 먹기 좋고, 섬유질이 풍부한...</td>\n",
       "      <td>쉬움</td>\n",
       "      <td>https://wtable.co.kr/recipes/7eNiM43eZ8v5PDiQp...</td>\n",
       "    </tr>\n",
       "    <tr>\n",
       "      <th>2472</th>\n",
       "      <td>부라타샐러드</td>\n",
       "      <td>간단요리</td>\n",
       "      <td>소금 후추 올리브오일 바질잎 방울토마토 바질페스토 부라타치즈</td>\n",
       "      <td>몽글몽글 마치 순두부같이 부드러운 부라타 치즈로 만든 샐러드 입니다! 신선하고 건...</td>\n",
       "      <td>쉬움</td>\n",
       "      <td>https://wtable.co.kr/recipes/Vknh411PRVQVuxm6a...</td>\n",
       "    </tr>\n",
       "  </tbody>\n",
       "</table>\n",
       "</div>"
      ],
      "text/plain": [
       "             요리    종류                                                 재료  \\\n",
       "2286  달걀토마토 샐러드  간단요리  홀그레인머스터드 소금 다진양파 블랙올리브 올리브유 달걀 대추토마토 새싹채소 꿀 호두 식초   \n",
       "2130   꼬시래기 샐러드  간단요리                      샐러드채소 현미식초 치킨스테이크 된장 매실액 꼬시래기   \n",
       "2151   닭가슴살 샐러드  간단요리  소금 다진양파 달걀 다진마늘 올리브오일 후춧가루 올리고당 간장 식초 양상추 당근 닭...   \n",
       "2216  배추땅콩칠리샐러드  간단요리                            배추 칠리소스 후춧가루 사과식초 땅콩 부추   \n",
       "2472     부라타샐러드  간단요리                  소금 후추 올리브오일 바질잎 방울토마토 바질페스토 부라타치즈   \n",
       "\n",
       "                                                     설명 난이도  \\\n",
       "2286  영양 가득한 재료들만 모아 특별한 샐러드를 만들었어요.\\n비타민과 무기질이 가득한 ...  쉬움   \n",
       "2130  꼬시래기는 지방과 탄수화물 함량이 낮고 칼슘과 식이섬유가 많아 다이어트에 효과적인 ...  쉬움   \n",
       "2151  연초부터 다이어트 시작한 분들 많으시죠? 다이어터 분들이 식사로 가장 많이 찾게 되...  쉬움   \n",
       "2216  배추는 씹으면 씹을수록 고소한 맛이 진하게 나서 생으로 먹기 좋고, 섬유질이 풍부한...  쉬움   \n",
       "2472   몽글몽글 마치 순두부같이 부드러운 부라타 치즈로 만든 샐러드 입니다! 신선하고 건...  쉬움   \n",
       "\n",
       "                                                     링크  \n",
       "2286  https://wtable.co.kr/recipes/dYxnz6f3zPKb6Jcjq...  \n",
       "2130  https://wtable.co.kr/recipes/5cEMJ2c75qBM6x7iQ...  \n",
       "2151  https://wtable.co.kr/recipes/dGN5zEGYrh8kayxv5...  \n",
       "2216  https://wtable.co.kr/recipes/7eNiM43eZ8v5PDiQp...  \n",
       "2472  https://wtable.co.kr/recipes/Vknh411PRVQVuxm6a...  "
      ]
     },
     "execution_count": 34,
     "metadata": {},
     "output_type": "execute_result"
    }
   ],
   "source": [
    "# 건강 상태\n",
    "include = '샐러드 레시피 알려줘'\n",
    "intent = 1\n",
    "exclude = []\n",
    "health = ['비만']\n",
    "result = get_similar_recipes(include, model, df, exclude_ingredients=exclude, health=health, intent=intent)\n",
    "result"
   ]
  },
  {
   "attachments": {},
   "cell_type": "markdown",
   "metadata": {},
   "source": [
    "## ChatGPT 연동하기\n",
    "### 세 가지 Role\n",
    "- user : 마치 채팅하는 것처럼 ChatGPT에 직접 무언가를 물어보고 싶을 때 사용하는 role (ex. \"Please explain what AI is\")\n",
    "- system : 유저에게 메시지를 받기 전에 모델을 초기화하거나 구성하려는 경우 사용하는 role (ex. \"You are a helpful kindergarten teacher talking to children\")\n",
    "- assistant : 이전에 ChatGPT가 유저에게 보낸 메시지가 무엇인지 알려주는 role. 유저와 어시스턴트 사이의 대화를 저장하고 어시스턴트에게 이전 대화를 전달하여 응답값을 조정할 수 있음. (ex. 이전까지의 대화를 기억하게 함으로써 명사 -> 대명사로 이어지는 맥락을 이해할 수 있도록 해줌)\n",
    "### Fine tuning\n",
    "Role 을 지정하는 것 이외에 Fine-tuning 을 활용하는 것이 실제 서비스에서는 더 이상적인 형태\n",
    "사용자의 데이터를 가지고 특정 태스크에 알맞게 커스텀하는 것\n",
    "- `{\"prompt\" : \"I really like this recipe!\", \"completion\" : \"positive\"}`\n",
    "- `{\"prompt\" : \"I'd like to leave out the cucumber.\", \"completion\" : \"negative\"}`"
   ]
  }
 ],
 "metadata": {
  "kernelspec": {
   "display_name": "Python 3 (ipykernel)",
   "language": "python",
   "name": "python3"
  },
  "language_info": {
   "codemirror_mode": {
    "name": "ipython",
    "version": 3
   },
   "file_extension": ".py",
   "mimetype": "text/x-python",
   "name": "python",
   "nbconvert_exporter": "python",
   "pygments_lexer": "ipython3",
   "version": "3.11.7"
  }
 },
 "nbformat": 4,
 "nbformat_minor": 4
}
