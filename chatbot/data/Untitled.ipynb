{
 "cells": [
  {
   "cell_type": "code",
   "execution_count": 1,
   "id": "103ca4b5-dc91-4b0c-8c10-afd48d9046a6",
   "metadata": {},
   "outputs": [],
   "source": [
    "import pandas as pd"
   ]
  },
  {
   "cell_type": "code",
   "execution_count": 7,
   "id": "8d4b1ba0-b1dc-4fb2-a269-f9703a3d38ac",
   "metadata": {},
   "outputs": [],
   "source": [
    "file_path = 'compact_kosroberta_recipes.pkl'\n",
    "data = pd.read_pickle(file_path)"
   ]
  },
  {
   "cell_type": "code",
   "execution_count": 8,
   "id": "0c9617c4-c97f-4cc3-8db0-747845743d28",
   "metadata": {},
   "outputs": [
    {
     "data": {
      "text/html": [
       "<div>\n",
       "<style scoped>\n",
       "    .dataframe tbody tr th:only-of-type {\n",
       "        vertical-align: middle;\n",
       "    }\n",
       "\n",
       "    .dataframe tbody tr th {\n",
       "        vertical-align: top;\n",
       "    }\n",
       "\n",
       "    .dataframe thead th {\n",
       "        text-align: right;\n",
       "    }\n",
       "</style>\n",
       "<table border=\"1\" class=\"dataframe\">\n",
       "  <thead>\n",
       "    <tr style=\"text-align: right;\">\n",
       "      <th></th>\n",
       "      <th>요리</th>\n",
       "      <th>종류</th>\n",
       "      <th>난이도</th>\n",
       "      <th>재료</th>\n",
       "      <th>요리방법</th>\n",
       "      <th>설명</th>\n",
       "      <th>재료수</th>\n",
       "      <th>소요시간</th>\n",
       "      <th>링크</th>\n",
       "      <th>사진</th>\n",
       "      <th>질병</th>\n",
       "      <th>feature</th>\n",
       "      <th>ko-sroberta-multitask-feature</th>\n",
       "    </tr>\n",
       "  </thead>\n",
       "  <tbody>\n",
       "    <tr>\n",
       "      <th>0</th>\n",
       "      <td>올리브 소시지 솥밥</td>\n",
       "      <td>메인요리</td>\n",
       "      <td>쉬움</td>\n",
       "      <td>소시지 올리브오일 쌀 치킨스톡파우더 물 후춧가루 파마산치즈 파슬리 올리브 샬롯</td>\n",
       "      <td>['쌀은 씻어 채에 받쳐 30분 정도 불려주세요.\\xa0', '소세지는 모양대로 슬...</td>\n",
       "      <td>올리브를 넣어 이국적인 감칠맛이 매력적인 솥 밥. 별다른 양념없이도 술술 넘어가는 ...</td>\n",
       "      <td>10</td>\n",
       "      <td>30</td>\n",
       "      <td>https://wtable.co.kr/recipes/rF7F5gmLrySsw7ZXZ...</td>\n",
       "      <td>https://static.wtable.co.kr/image/production/s...</td>\n",
       "      <td>일반</td>\n",
       "      <td>소시지 올리브오일 쌀 치킨스톡파우더 물 후춧가루 파마산치즈 파슬리 올리브 샬롯올리브...</td>\n",
       "      <td>[0.088191085, -0.08414504, -0.14284688, -0.264...</td>\n",
       "    </tr>\n",
       "    <tr>\n",
       "      <th>1</th>\n",
       "      <td>원 팟 파스타</td>\n",
       "      <td>메인요리</td>\n",
       "      <td>쉬움</td>\n",
       "      <td>파스타면 소금 올리브오일 물 후춧가루 파슬리 올리브 방울토마토 케이퍼</td>\n",
       "      <td>['방울토마토는 반으로 썰어주세요.\\xa0파슬리는 다져주세요.', '냄비에 파스타면...</td>\n",
       "      <td>냄비에 파스타와 토마토, 올리브 등 재료를 넣고 물을 부은 후 끓이면 완성되는 초간...</td>\n",
       "      <td>9</td>\n",
       "      <td>20</td>\n",
       "      <td>https://wtable.co.kr/recipes/EzDURnKruCpR2nGxZ...</td>\n",
       "      <td>https://static.wtable.co.kr/image/production/s...</td>\n",
       "      <td>일반</td>\n",
       "      <td>파스타면 소금 올리브오일 물 후춧가루 파슬리 올리브 방울토마토 케이퍼원 팟 파스타냄...</td>\n",
       "      <td>[-0.053257108, 0.070922054, -0.02161145, -0.61...</td>\n",
       "    </tr>\n",
       "    <tr>\n",
       "      <th>2</th>\n",
       "      <td>그릴드 브리치즈</td>\n",
       "      <td>메인요리</td>\n",
       "      <td>쉬움</td>\n",
       "      <td>브리치즈 마늘 올리브오일 바게트 꿀 로즈마리 후춧가루 방울토마토</td>\n",
       "      <td>['브리치즈에 칼집을 넣어주세요. 마늘은 편을 썰어주세요.\\xa0', '오븐용기에 ...</td>\n",
       "      <td>브리치즈와 토마토, 오일과 허브를 뿌린 후 오븐에 구워내 보세요. 와인안주로 활용하...</td>\n",
       "      <td>8</td>\n",
       "      <td>30</td>\n",
       "      <td>https://wtable.co.kr/recipes/Tzr7zXZuJvm35s1wd...</td>\n",
       "      <td>https://static.wtable.co.kr/image/production/s...</td>\n",
       "      <td>일반</td>\n",
       "      <td>브리치즈 마늘 올리브오일 바게트 꿀 로즈마리 후춧가루 방울토마토그릴드 브리치즈브리치...</td>\n",
       "      <td>[-0.071512364, -0.16087213, -0.052535467, 0.07...</td>\n",
       "    </tr>\n",
       "    <tr>\n",
       "      <th>3</th>\n",
       "      <td>그릴드 피치 샐러드</td>\n",
       "      <td>메인요리</td>\n",
       "      <td>쉬움</td>\n",
       "      <td>소금 루꼴라 복숭아 올리브오일 화이트발사믹 민트잎 꿀 후춧가루 방울토마토 부라타치즈</td>\n",
       "      <td>['복숭아는 씨를 빼고 웨지 모양으로 썰어주세요. 작은 것은 반으로 썰어 주세요.\\...</td>\n",
       "      <td>복숭아에 멋진 그릴 자국을 내보세요. 여름을 맞아 제철인 단단한 복숭아를 그릴에 구...</td>\n",
       "      <td>10</td>\n",
       "      <td>25</td>\n",
       "      <td>https://wtable.co.kr/recipes/RofraF8aFP5u5rqeX...</td>\n",
       "      <td>https://static.wtable.co.kr/image/production/s...</td>\n",
       "      <td>일반</td>\n",
       "      <td>소금 루꼴라 복숭아 올리브오일 화이트발사믹 민트잎 꿀 후춧가루 방울토마토 부라타치즈...</td>\n",
       "      <td>[-0.070178695, 0.05069192, -0.26207393, 0.2856...</td>\n",
       "    </tr>\n",
       "    <tr>\n",
       "      <th>4</th>\n",
       "      <td>과카몰리 부리또콘</td>\n",
       "      <td>메인요리</td>\n",
       "      <td>쉬움</td>\n",
       "      <td>소금 양파 올리브오일 아보카도 고수 토마토 토르티야 슈파마산치즈 레몬</td>\n",
       "      <td>['또띠아를 반으로 자른 후 원 뿔 모양으로 둥글게 말아 나무 꼬치로 가장자리를 고...</td>\n",
       "      <td>아보카도는 불포화 지방산이 풍부해 콜레스테롤 수치를 낮추고 혈관건강에 유익해요. 게...</td>\n",
       "      <td>9</td>\n",
       "      <td>20</td>\n",
       "      <td>https://wtable.co.kr/recipes/3PW95soZHRArnzsYB...</td>\n",
       "      <td>https://static.wtable.co.kr/image/production/s...</td>\n",
       "      <td>일반</td>\n",
       "      <td>소금 양파 올리브오일 아보카도 고수 토마토 토르티야 슈파마산치즈 레몬과카몰리 부리또...</td>\n",
       "      <td>[-0.0049587316, 0.069201306, -0.17497921, 0.61...</td>\n",
       "    </tr>\n",
       "  </tbody>\n",
       "</table>\n",
       "</div>"
      ],
      "text/plain": [
       "           요리    종류 난이도                                              재료  \\\n",
       "0  올리브 소시지 솥밥  메인요리  쉬움     소시지 올리브오일 쌀 치킨스톡파우더 물 후춧가루 파마산치즈 파슬리 올리브 샬롯   \n",
       "1     원 팟 파스타  메인요리  쉬움          파스타면 소금 올리브오일 물 후춧가루 파슬리 올리브 방울토마토 케이퍼   \n",
       "2    그릴드 브리치즈  메인요리  쉬움             브리치즈 마늘 올리브오일 바게트 꿀 로즈마리 후춧가루 방울토마토   \n",
       "3  그릴드 피치 샐러드  메인요리  쉬움  소금 루꼴라 복숭아 올리브오일 화이트발사믹 민트잎 꿀 후춧가루 방울토마토 부라타치즈   \n",
       "4   과카몰리 부리또콘  메인요리  쉬움          소금 양파 올리브오일 아보카도 고수 토마토 토르티야 슈파마산치즈 레몬   \n",
       "\n",
       "                                                요리방법  \\\n",
       "0  ['쌀은 씻어 채에 받쳐 30분 정도 불려주세요.\\xa0', '소세지는 모양대로 슬...   \n",
       "1  ['방울토마토는 반으로 썰어주세요.\\xa0파슬리는 다져주세요.', '냄비에 파스타면...   \n",
       "2  ['브리치즈에 칼집을 넣어주세요. 마늘은 편을 썰어주세요.\\xa0', '오븐용기에 ...   \n",
       "3  ['복숭아는 씨를 빼고 웨지 모양으로 썰어주세요. 작은 것은 반으로 썰어 주세요.\\...   \n",
       "4  ['또띠아를 반으로 자른 후 원 뿔 모양으로 둥글게 말아 나무 꼬치로 가장자리를 고...   \n",
       "\n",
       "                                                  설명  재료수  소요시간  \\\n",
       "0  올리브를 넣어 이국적인 감칠맛이 매력적인 솥 밥. 별다른 양념없이도 술술 넘어가는 ...   10    30   \n",
       "1  냄비에 파스타와 토마토, 올리브 등 재료를 넣고 물을 부은 후 끓이면 완성되는 초간...    9    20   \n",
       "2  브리치즈와 토마토, 오일과 허브를 뿌린 후 오븐에 구워내 보세요. 와인안주로 활용하...    8    30   \n",
       "3  복숭아에 멋진 그릴 자국을 내보세요. 여름을 맞아 제철인 단단한 복숭아를 그릴에 구...   10    25   \n",
       "4  아보카도는 불포화 지방산이 풍부해 콜레스테롤 수치를 낮추고 혈관건강에 유익해요. 게...    9    20   \n",
       "\n",
       "                                                  링크  \\\n",
       "0  https://wtable.co.kr/recipes/rF7F5gmLrySsw7ZXZ...   \n",
       "1  https://wtable.co.kr/recipes/EzDURnKruCpR2nGxZ...   \n",
       "2  https://wtable.co.kr/recipes/Tzr7zXZuJvm35s1wd...   \n",
       "3  https://wtable.co.kr/recipes/RofraF8aFP5u5rqeX...   \n",
       "4  https://wtable.co.kr/recipes/3PW95soZHRArnzsYB...   \n",
       "\n",
       "                                                  사진  질병  \\\n",
       "0  https://static.wtable.co.kr/image/production/s...  일반   \n",
       "1  https://static.wtable.co.kr/image/production/s...  일반   \n",
       "2  https://static.wtable.co.kr/image/production/s...  일반   \n",
       "3  https://static.wtable.co.kr/image/production/s...  일반   \n",
       "4  https://static.wtable.co.kr/image/production/s...  일반   \n",
       "\n",
       "                                             feature  \\\n",
       "0  소시지 올리브오일 쌀 치킨스톡파우더 물 후춧가루 파마산치즈 파슬리 올리브 샬롯올리브...   \n",
       "1  파스타면 소금 올리브오일 물 후춧가루 파슬리 올리브 방울토마토 케이퍼원 팟 파스타냄...   \n",
       "2  브리치즈 마늘 올리브오일 바게트 꿀 로즈마리 후춧가루 방울토마토그릴드 브리치즈브리치...   \n",
       "3  소금 루꼴라 복숭아 올리브오일 화이트발사믹 민트잎 꿀 후춧가루 방울토마토 부라타치즈...   \n",
       "4  소금 양파 올리브오일 아보카도 고수 토마토 토르티야 슈파마산치즈 레몬과카몰리 부리또...   \n",
       "\n",
       "                       ko-sroberta-multitask-feature  \n",
       "0  [0.088191085, -0.08414504, -0.14284688, -0.264...  \n",
       "1  [-0.053257108, 0.070922054, -0.02161145, -0.61...  \n",
       "2  [-0.071512364, -0.16087213, -0.052535467, 0.07...  \n",
       "3  [-0.070178695, 0.05069192, -0.26207393, 0.2856...  \n",
       "4  [-0.0049587316, 0.069201306, -0.17497921, 0.61...  "
      ]
     },
     "execution_count": 8,
     "metadata": {},
     "output_type": "execute_result"
    }
   ],
   "source": [
    "# Display the first few rows and the columns\n",
    "data.head()"
   ]
  },
  {
   "cell_type": "code",
   "execution_count": 9,
   "id": "985cf49f-81e9-44f6-b3a7-b904074d1009",
   "metadata": {},
   "outputs": [
    {
     "data": {
      "text/plain": [
       "Index(['요리', '종류', '난이도', '재료', '요리방법', '설명', '재료수', '소요시간', '링크', '사진', '질병',\n",
       "       'feature', 'ko-sroberta-multitask-feature'],\n",
       "      dtype='object')"
      ]
     },
     "execution_count": 9,
     "metadata": {},
     "output_type": "execute_result"
    }
   ],
   "source": [
    "data.columns"
   ]
  },
  {
   "cell_type": "code",
   "execution_count": 10,
   "id": "a2546411-522a-4c25-a95a-8c49544243af",
   "metadata": {},
   "outputs": [
    {
     "name": "stdout",
     "output_type": "stream",
     "text": [
      "Column exists and contains data.\n"
     ]
    }
   ],
   "source": [
    "# Check if 'ko-sroberta-multitask-feature' column exists and is not empty\n",
    "if 'ko-sroberta-multitask-feature' in data.columns and not data['ko-sroberta-multitask-feature'].isnull().all():\n",
    "    print(\"Column exists and contains data.\")\n",
    "else:\n",
    "    print(\"Column is missing or empty.\")"
   ]
  },
  {
   "cell_type": "code",
   "execution_count": null,
   "id": "9fb43883-c467-4035-8eaf-c1e64c399e46",
   "metadata": {},
   "outputs": [],
   "source": []
  }
 ],
 "metadata": {
  "kernelspec": {
   "display_name": "Python 3 (ipykernel)",
   "language": "python",
   "name": "python3"
  },
  "language_info": {
   "codemirror_mode": {
    "name": "ipython",
    "version": 3
   },
   "file_extension": ".py",
   "mimetype": "text/x-python",
   "name": "python",
   "nbconvert_exporter": "python",
   "pygments_lexer": "ipython3",
   "version": "3.11.7"
  }
 },
 "nbformat": 4,
 "nbformat_minor": 5
}
