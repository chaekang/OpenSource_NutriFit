{
 "cells": [
  {
   "attachments": {},
   "cell_type": "markdown",
   "metadata": {},
   "source": [
    "# NLP를 활용한 레시피 추천 챗봇 구현\n",
    "**개요**\n",
    "- Collection \n",
    "- Preprocessing\n",
    "- EDA\n",
    "- Embeddings\n",
    "- Modeling\n",
    "- Streamlit"
   ]
  },
  {
   "attachments": {},
   "cell_type": "markdown",
   "metadata": {},
   "source": [
    "## 1. Collection (웹 크롤링 : 스크래핑)\n",
    "- 수집할 데이터 : 요리이름, 카테고리, 난이도, 소요시간, 재료, 요리방법, 요리설명, 링크, 이미지링크\n",
    "- 수집 대상 사이트 : 우리의 식탁(https://wtable.co.kr/recipes)\n",
    "- 수집 방법 : 웹 크롤링(스크래핑)\n",
    "    - BeautifulSoup\n",
    "    - requests"
   ]
  },
  {
   "attachments": {},
   "cell_type": "markdown",
   "metadata": {},
   "source": [
    "### 라이브러리 import"
   ]
  },
  {
   "cell_type": "code",
   "execution_count": 1,
   "metadata": {
    "id": "kc7JFumi_sTf"
   },
   "outputs": [],
   "source": [
    "# 데이터 분석\n",
    "import numpy as np\n",
    "import pandas as pd\n",
    "\n",
    "# 웹 스크래핑\n",
    "import requests\n",
    "from bs4 import BeautifulSoup as bs\n",
    "\n",
    "# HTTP 클라이언트\n",
    "import urllib3\n",
    "urllib3.disable_warnings()\n",
    "\n",
    "# 진행시간 표시\n",
    "import time\n",
    "from tqdm.notebook import tqdm\n",
    "tqdm.pandas()"
   ]
  },
  {
   "attachments": {},
   "cell_type": "markdown",
   "metadata": {},
   "source": [
    "### 웹 스크래핑 진행하기"
   ]
  },
  {
   "cell_type": "code",
   "execution_count": 2,
   "metadata": {
    "id": "_gZKFErUmwjI"
   },
   "outputs": [],
   "source": [
    "def get_link(token):\n",
    "    \"음식 상세정보 링크 반환\"\n",
    "    link = f'https://wtable.co.kr/recipes/{token}?location=recipe_home'\n",
    "    return link"
   ]
  },
  {
   "cell_type": "code",
   "execution_count": 3,
   "metadata": {
    "id": "IP98LGqY7nQ9"
   },
   "outputs": [],
   "source": [
    "# 카테고리 코드\n",
    "category = {'메인요리': 1,\n",
    "            '초대요리': 2,\n",
    "            '간식': 5,\n",
    "            '간단요리': 126,\n",
    "            '밑반찬': 183,\n",
    "            '채식': 184,\n",
    "            '한식': 185,\n",
    "            '양식': 186,\n",
    "            '일식': 187,\n",
    "            '중식': 188,\n",
    "            '퓨전': 189,\n",
    "            '분식': 190,\n",
    "            '안주': 191,\n",
    "            '베이킹': 192,\n",
    "            '다이어트': 193,\n",
    "            '도시락': 214,\n",
    "            '키토': 242,\n",
    "            '오븐 요리': 273\n",
    "            }"
   ]
  },
  {
   "cell_type": "code",
   "execution_count": 4,
   "metadata": {
    "id": "KuIh_5uRTBhb"
   },
   "outputs": [],
   "source": [
    "def get_one_page(cuisine, start):\n",
    "    \"cuisine의 start번째부터 40개 수집\"\n",
    "    url_base = f'https://wtable.net/api_v2/theme/recipe/list?&platform=web&'\n",
    "    url_base2 = f'theme_id={category[cuisine]}&offset={start}&limit=40'\n",
    "    url = url_base + url_base2\n",
    "\n",
    "    response = requests.get(url, verify=False)\n",
    "    data = response.json()['data']\n",
    "\n",
    "    level_list = list(map(lambda x: x['level'], data))\n",
    "    time_list = list(map(lambda x: x['time'], data))\n",
    "    title_list = list(map(lambda x: x['title'], data))\n",
    "    link_list = [get_link(i['token']) for i in data]\n",
    "    img_list = list(map(lambda x: x['profile_img'], data))\n",
    "\n",
    "\n",
    "    df = pd.DataFrame({'요리':title_list,                 \n",
    "                       '종류':cuisine,\n",
    "                       '난이도':level_list,\n",
    "                       '소요시간':time_list,\n",
    "                       '링크':link_list,\n",
    "                       '사진':img_list})\n",
    "\n",
    "    return df"
   ]
  },
  {
   "cell_type": "code",
   "execution_count": 5,
   "metadata": {
    "id": "yPLZ1U6nMEPZ"
   },
   "outputs": [],
   "source": [
    "def get_all_pages(cuisine):\n",
    "    \"모든 페이지 수집\"\n",
    "    start = 0\n",
    "    page_list = []\n",
    "    while True:\n",
    "        df_one_page = get_one_page(cuisine, start)\n",
    "        if df_one_page.empty:\n",
    "            break\n",
    "        else:\n",
    "            page_list.append(df_one_page)\n",
    "            time.sleep(0.01)\n",
    "            start += 40\n",
    "\n",
    "    df_all_page = pd.concat(page_list, ignore_index=True)\n",
    "    \n",
    "    return df_all_page"
   ]
  },
  {
   "cell_type": "code",
   "execution_count": 6,
   "metadata": {
    "colab": {
     "base_uri": "https://localhost:8080/",
     "height": 423
    },
    "id": "gI4LTf7nCDm-",
    "outputId": "725a5b04-8f96-469b-cf81-75afcd19f667"
   },
   "outputs": [],
   "source": [
    "# 모든 카테고리를 대상으로 get_all_pages 적용하기\n",
    "cuisines = []\n",
    "for i in category:\n",
    "    cuisines.append(get_all_pages(i))\n",
    "result = pd.concat(cuisines, ignore_index=True)"
   ]
  },
  {
   "cell_type": "code",
   "execution_count": 7,
   "metadata": {
    "id": "_D9OIirpAJ3f"
   },
   "outputs": [],
   "source": [
    "def get_details(url):\n",
    "    \"링크에서 재료와 요리방법, 설명 수집 함수\"\n",
    "    try: \n",
    "        response = requests.get(url, verify=False)\n",
    "        soup = bs(response.text)    \n",
    "        tmp = soup.find_all('div', {'class':'Text__Description02-sc-1qy6bx2-0 fCbbYE'})\n",
    "        ingredients = [i.find_all('div')[0].text for i in tmp]\n",
    "        tmp2 = soup.find_all('p', {'class':'Text__Pre01-sc-1qy6bx2-2 enJPxd'})\n",
    "        cook = [i.text for i in tmp2]\n",
    "        description = soup.find('p', {'class':'RecipeDetailstyle__Description-q7sykd-14 IdQIJ'}).text\n",
    "        return ingredients, cook, description\n",
    "    \n",
    "    except:\n",
    "        return None, None, None"
   ]
  },
  {
   "cell_type": "code",
   "execution_count": 8,
   "metadata": {
    "id": "IUYecPosIdVs"
   },
   "outputs": [
    {
     "data": {
      "application/vnd.jupyter.widget-view+json": {
       "model_id": "8a4d1ff5fc134b49967e517265c0d684",
       "version_major": 2,
       "version_minor": 0
      },
      "text/plain": [
       "  0%|          | 0/4947 [00:00<?, ?it/s]"
      ]
     },
     "metadata": {},
     "output_type": "display_data"
    }
   ],
   "source": [
    "# 링크에서 재료와 요리방법, 설명 가져오기\n",
    "details = result['링크'].progress_map(get_details)"
   ]
  },
  {
   "cell_type": "code",
   "execution_count": 9,
   "metadata": {},
   "outputs": [],
   "source": [
    "result['재료'] = [i[0] for i in details]\n",
    "result['요리방법'] = [i[1] for i in details]\n",
    "result['설명'] = [i[2] for i in details]"
   ]
  },
  {
   "attachments": {},
   "cell_type": "markdown",
   "metadata": {},
   "source": [
    "### 수집한 데이터 확인하기"
   ]
  },
  {
   "cell_type": "code",
   "execution_count": 10,
   "metadata": {
    "id": "lbcLtHDzV2Wv"
   },
   "outputs": [
    {
     "name": "stdout",
     "output_type": "stream",
     "text": [
      "<class 'pandas.core.frame.DataFrame'>\n",
      "RangeIndex: 4947 entries, 0 to 4946\n",
      "Data columns (total 9 columns):\n",
      " #   Column  Non-Null Count  Dtype \n",
      "---  ------  --------------  ----- \n",
      " 0   요리      4947 non-null   object\n",
      " 1   종류      4947 non-null   object\n",
      " 2   난이도     4947 non-null   int64 \n",
      " 3   소요시간    4947 non-null   int64 \n",
      " 4   링크      4947 non-null   object\n",
      " 5   사진      4947 non-null   object\n",
      " 6   재료      4947 non-null   object\n",
      " 7   요리방법    4947 non-null   object\n",
      " 8   설명      4947 non-null   object\n",
      "dtypes: int64(2), object(7)\n",
      "memory usage: 348.0+ KB\n"
     ]
    }
   ],
   "source": [
    "# 수집한 데이터 구성 요약\n",
    "result.info()"
   ]
  },
  {
   "cell_type": "code",
   "execution_count": 11,
   "metadata": {
    "id": "gjqpolAazoOC"
   },
   "outputs": [
    {
     "data": {
      "text/html": [
       "<div>\n",
       "<style scoped>\n",
       "    .dataframe tbody tr th:only-of-type {\n",
       "        vertical-align: middle;\n",
       "    }\n",
       "\n",
       "    .dataframe tbody tr th {\n",
       "        vertical-align: top;\n",
       "    }\n",
       "\n",
       "    .dataframe thead th {\n",
       "        text-align: right;\n",
       "    }\n",
       "</style>\n",
       "<table border=\"1\" class=\"dataframe\">\n",
       "  <thead>\n",
       "    <tr style=\"text-align: right;\">\n",
       "      <th></th>\n",
       "      <th>요리</th>\n",
       "      <th>종류</th>\n",
       "      <th>설명</th>\n",
       "    </tr>\n",
       "  </thead>\n",
       "  <tbody>\n",
       "    <tr>\n",
       "      <th>0</th>\n",
       "      <td>올리브 소시지 솥밥</td>\n",
       "      <td>메인요리</td>\n",
       "      <td>올리브를 넣어 이국적인 감칠맛이 매력적인 솥 밥. 별다른 양념없이도 술술 넘어가는 ...</td>\n",
       "    </tr>\n",
       "    <tr>\n",
       "      <th>1</th>\n",
       "      <td>원 팟 파스타</td>\n",
       "      <td>메인요리</td>\n",
       "      <td>냄비에 파스타와 토마토, 올리브 등 재료를 넣고 물을 부은 후 끓이면 완성되는 초간...</td>\n",
       "    </tr>\n",
       "    <tr>\n",
       "      <th>2</th>\n",
       "      <td>그릴드 브리치즈</td>\n",
       "      <td>메인요리</td>\n",
       "      <td>브리치즈와 토마토, 오일과 허브를 뿌린 후 오븐에 구워내 보세요. 와인안주로 활용하...</td>\n",
       "    </tr>\n",
       "    <tr>\n",
       "      <th>3</th>\n",
       "      <td>그릴드 피치 샐러드</td>\n",
       "      <td>메인요리</td>\n",
       "      <td>복숭아에 멋진 그릴 자국을 내보세요. 여름을 맞아 제철인 단단한 복숭아를 그릴에 구...</td>\n",
       "    </tr>\n",
       "    <tr>\n",
       "      <th>4</th>\n",
       "      <td>과카몰리 부리또콘</td>\n",
       "      <td>메인요리</td>\n",
       "      <td>아보카도는 불포화 지방산이 풍부해 콜레스테롤 수치를 낮추고 혈관건강에 유익해요. 게...</td>\n",
       "    </tr>\n",
       "    <tr>\n",
       "      <th>...</th>\n",
       "      <td>...</td>\n",
       "      <td>...</td>\n",
       "      <td>...</td>\n",
       "    </tr>\n",
       "    <tr>\n",
       "      <th>4942</th>\n",
       "      <td>골뱅이튀김과 파채</td>\n",
       "      <td>오븐 요리</td>\n",
       "      <td>특유의 쫄깃한 식감이 매력적인 골뱅이. 지금까지 골뱅이무침만 먹어 오셨다면, 오늘은...</td>\n",
       "    </tr>\n",
       "    <tr>\n",
       "      <th>4943</th>\n",
       "      <td>대하치즈구이</td>\n",
       "      <td>오븐 요리</td>\n",
       "      <td>비주얼부터 감탄에 감탄을 부르는 대하치즈구이! 탱글탱글한 대하를 동그랗게 펼친 후 ...</td>\n",
       "    </tr>\n",
       "    <tr>\n",
       "      <th>4944</th>\n",
       "      <td>돈마호크</td>\n",
       "      <td>오븐 요리</td>\n",
       "      <td>소고기에 토마호크가 있다면, 돼지고기엔 돈마호크가 있죠. 돈마호크는 돼지고기의 삼겹...</td>\n",
       "    </tr>\n",
       "    <tr>\n",
       "      <th>4945</th>\n",
       "      <td>단호박 에그슬럿</td>\n",
       "      <td>오븐 요리</td>\n",
       "      <td>노란빛의 달콤한 속살을 가진 단호박은 식이섬유가 많고 열량이 낮아 다이어트에 효과적...</td>\n",
       "    </tr>\n",
       "    <tr>\n",
       "      <th>4946</th>\n",
       "      <td>대파그라탕</td>\n",
       "      <td>오븐 요리</td>\n",
       "      <td>대파의 무한변신, 대파그라탕! 대파의 은은한 단맛과 향이 매력적인 요리인데요. 특히...</td>\n",
       "    </tr>\n",
       "  </tbody>\n",
       "</table>\n",
       "<p>4947 rows × 3 columns</p>\n",
       "</div>"
      ],
      "text/plain": [
       "              요리     종류                                                 설명\n",
       "0     올리브 소시지 솥밥   메인요리  올리브를 넣어 이국적인 감칠맛이 매력적인 솥 밥. 별다른 양념없이도 술술 넘어가는 ...\n",
       "1        원 팟 파스타   메인요리  냄비에 파스타와 토마토, 올리브 등 재료를 넣고 물을 부은 후 끓이면 완성되는 초간...\n",
       "2       그릴드 브리치즈   메인요리  브리치즈와 토마토, 오일과 허브를 뿌린 후 오븐에 구워내 보세요. 와인안주로 활용하...\n",
       "3     그릴드 피치 샐러드   메인요리  복숭아에 멋진 그릴 자국을 내보세요. 여름을 맞아 제철인 단단한 복숭아를 그릴에 구...\n",
       "4      과카몰리 부리또콘   메인요리  아보카도는 불포화 지방산이 풍부해 콜레스테롤 수치를 낮추고 혈관건강에 유익해요. 게...\n",
       "...          ...    ...                                                ...\n",
       "4942   골뱅이튀김과 파채  오븐 요리  특유의 쫄깃한 식감이 매력적인 골뱅이. 지금까지 골뱅이무침만 먹어 오셨다면, 오늘은...\n",
       "4943      대하치즈구이  오븐 요리  비주얼부터 감탄에 감탄을 부르는 대하치즈구이! 탱글탱글한 대하를 동그랗게 펼친 후 ...\n",
       "4944        돈마호크  오븐 요리  소고기에 토마호크가 있다면, 돼지고기엔 돈마호크가 있죠. 돈마호크는 돼지고기의 삼겹...\n",
       "4945    단호박 에그슬럿  오븐 요리  노란빛의 달콤한 속살을 가진 단호박은 식이섬유가 많고 열량이 낮아 다이어트에 효과적...\n",
       "4946       대파그라탕  오븐 요리  대파의 무한변신, 대파그라탕! 대파의 은은한 단맛과 향이 매력적인 요리인데요. 특히...\n",
       "\n",
       "[4947 rows x 3 columns]"
      ]
     },
     "execution_count": 11,
     "metadata": {},
     "output_type": "execute_result"
    }
   ],
   "source": [
    "# 요리, 종류, 설명만 가져와서 보기\n",
    "result[['요리', '종류', '설명']]"
   ]
  },
  {
   "cell_type": "code",
   "execution_count": 12,
   "metadata": {},
   "outputs": [
    {
     "data": {
      "text/html": [
       "<div>\n",
       "<style scoped>\n",
       "    .dataframe tbody tr th:only-of-type {\n",
       "        vertical-align: middle;\n",
       "    }\n",
       "\n",
       "    .dataframe tbody tr th {\n",
       "        vertical-align: top;\n",
       "    }\n",
       "\n",
       "    .dataframe thead th {\n",
       "        text-align: right;\n",
       "    }\n",
       "</style>\n",
       "<table border=\"1\" class=\"dataframe\">\n",
       "  <thead>\n",
       "    <tr style=\"text-align: right;\">\n",
       "      <th></th>\n",
       "      <th>요리</th>\n",
       "      <th>종류</th>\n",
       "      <th>난이도</th>\n",
       "      <th>소요시간</th>\n",
       "      <th>링크</th>\n",
       "      <th>사진</th>\n",
       "      <th>재료</th>\n",
       "      <th>요리방법</th>\n",
       "      <th>설명</th>\n",
       "    </tr>\n",
       "  </thead>\n",
       "  <tbody>\n",
       "    <tr>\n",
       "      <th>0</th>\n",
       "      <td>올리브 소시지 솥밥</td>\n",
       "      <td>메인요리</td>\n",
       "      <td>1</td>\n",
       "      <td>30</td>\n",
       "      <td>https://wtable.co.kr/recipes/rF7F5gmLrySsw7ZXZ...</td>\n",
       "      <td>https://static.wtable.co.kr/image/production/s...</td>\n",
       "      <td>[쌀, 물, 치킨스톡 파우더, 샬롯(또는 양파), 그린올리브, 소시지, 파마산 치즈...</td>\n",
       "      <td>[쌀은 씻어 채에 받쳐 30분 정도 불려주세요. , 소세지는 모양대로 슬라이스 해주...</td>\n",
       "      <td>올리브를 넣어 이국적인 감칠맛이 매력적인 솥 밥. 별다른 양념없이도 술술 넘어가는 ...</td>\n",
       "    </tr>\n",
       "  </tbody>\n",
       "</table>\n",
       "</div>"
      ],
      "text/plain": [
       "           요리    종류  난이도  소요시간  \\\n",
       "0  올리브 소시지 솥밥  메인요리    1    30   \n",
       "\n",
       "                                                  링크  \\\n",
       "0  https://wtable.co.kr/recipes/rF7F5gmLrySsw7ZXZ...   \n",
       "\n",
       "                                                  사진  \\\n",
       "0  https://static.wtable.co.kr/image/production/s...   \n",
       "\n",
       "                                                  재료  \\\n",
       "0  [쌀, 물, 치킨스톡 파우더, 샬롯(또는 양파), 그린올리브, 소시지, 파마산 치즈...   \n",
       "\n",
       "                                                요리방법  \\\n",
       "0  [쌀은 씻어 채에 받쳐 30분 정도 불려주세요. , 소세지는 모양대로 슬라이스 해주...   \n",
       "\n",
       "                                                  설명  \n",
       "0  올리브를 넣어 이국적인 감칠맛이 매력적인 솥 밥. 별다른 양념없이도 술술 넘어가는 ...  "
      ]
     },
     "execution_count": 12,
     "metadata": {},
     "output_type": "execute_result"
    }
   ],
   "source": [
    "# 데이터 미리보기\n",
    "result.head(1)"
   ]
  },
  {
   "attachments": {},
   "cell_type": "markdown",
   "metadata": {},
   "source": [
    "### 수집한 데이터 저장하기"
   ]
  },
  {
   "cell_type": "code",
   "execution_count": 13,
   "metadata": {},
   "outputs": [],
   "source": [
    "result.to_csv('data/raw_recipes.csv', index=False)"
   ]
  },
  {
   "cell_type": "code",
   "execution_count": 14,
   "metadata": {
    "scrolled": true
   },
   "outputs": [
    {
     "data": {
      "text/html": [
       "<div>\n",
       "<style scoped>\n",
       "    .dataframe tbody tr th:only-of-type {\n",
       "        vertical-align: middle;\n",
       "    }\n",
       "\n",
       "    .dataframe tbody tr th {\n",
       "        vertical-align: top;\n",
       "    }\n",
       "\n",
       "    .dataframe thead th {\n",
       "        text-align: right;\n",
       "    }\n",
       "</style>\n",
       "<table border=\"1\" class=\"dataframe\">\n",
       "  <thead>\n",
       "    <tr style=\"text-align: right;\">\n",
       "      <th></th>\n",
       "      <th>요리</th>\n",
       "      <th>종류</th>\n",
       "      <th>난이도</th>\n",
       "      <th>소요시간</th>\n",
       "      <th>링크</th>\n",
       "      <th>사진</th>\n",
       "      <th>재료</th>\n",
       "      <th>요리방법</th>\n",
       "      <th>설명</th>\n",
       "    </tr>\n",
       "  </thead>\n",
       "  <tbody>\n",
       "    <tr>\n",
       "      <th>0</th>\n",
       "      <td>올리브 소시지 솥밥</td>\n",
       "      <td>메인요리</td>\n",
       "      <td>1</td>\n",
       "      <td>30</td>\n",
       "      <td>https://wtable.co.kr/recipes/rF7F5gmLrySsw7ZXZ...</td>\n",
       "      <td>https://static.wtable.co.kr/image/production/s...</td>\n",
       "      <td>['쌀', '물', '치킨스톡 파우더', '샬롯(또는 양파)', '그린올리브', '...</td>\n",
       "      <td>['쌀은 씻어 채에 받쳐 30분 정도 불려주세요.\\xa0', '소세지는 모양대로 슬...</td>\n",
       "      <td>올리브를 넣어 이국적인 감칠맛이 매력적인 솥 밥. 별다른 양념없이도 술술 넘어가는 ...</td>\n",
       "    </tr>\n",
       "    <tr>\n",
       "      <th>1</th>\n",
       "      <td>원 팟 파스타</td>\n",
       "      <td>메인요리</td>\n",
       "      <td>1</td>\n",
       "      <td>20</td>\n",
       "      <td>https://wtable.co.kr/recipes/EzDURnKruCpR2nGxZ...</td>\n",
       "      <td>https://static.wtable.co.kr/image/production/s...</td>\n",
       "      <td>['파스타면', '방울토마토', '그린 올리브', '케이퍼', '파슬리', '올리브...</td>\n",
       "      <td>['방울토마토는 반으로 썰어주세요.\\xa0파슬리는 다져주세요.', '냄비에 파스타면...</td>\n",
       "      <td>냄비에 파스타와 토마토, 올리브 등 재료를 넣고 물을 부은 후 끓이면 완성되는 초간...</td>\n",
       "    </tr>\n",
       "    <tr>\n",
       "      <th>2</th>\n",
       "      <td>그릴드 브리치즈</td>\n",
       "      <td>메인요리</td>\n",
       "      <td>1</td>\n",
       "      <td>30</td>\n",
       "      <td>https://wtable.co.kr/recipes/Tzr7zXZuJvm35s1wd...</td>\n",
       "      <td>https://static.wtable.co.kr/image/production/s...</td>\n",
       "      <td>['브리치즈', '방울토마토', '로즈마리', '마늘', '올리브오일', '후춧가루...</td>\n",
       "      <td>['브리치즈에 칼집을 넣어주세요. 마늘은 편을 썰어주세요.\\xa0', '오븐용기에 ...</td>\n",
       "      <td>브리치즈와 토마토, 오일과 허브를 뿌린 후 오븐에 구워내 보세요. 와인안주로 활용하...</td>\n",
       "    </tr>\n",
       "    <tr>\n",
       "      <th>3</th>\n",
       "      <td>그릴드 피치 샐러드</td>\n",
       "      <td>메인요리</td>\n",
       "      <td>1</td>\n",
       "      <td>25</td>\n",
       "      <td>https://wtable.co.kr/recipes/RofraF8aFP5u5rqeX...</td>\n",
       "      <td>https://static.wtable.co.kr/image/production/s...</td>\n",
       "      <td>['복숭아', '부라타치즈', '루꼴라', '방울토마토', '민트잎', '화이트발사...</td>\n",
       "      <td>['복숭아는 씨를 빼고 웨지 모양으로 썰어주세요. 작은 것은 반으로 썰어 주세요.\\...</td>\n",
       "      <td>복숭아에 멋진 그릴 자국을 내보세요. 여름을 맞아 제철인 단단한 복숭아를 그릴에 구...</td>\n",
       "    </tr>\n",
       "    <tr>\n",
       "      <th>4</th>\n",
       "      <td>과카몰리 부리또콘</td>\n",
       "      <td>메인요리</td>\n",
       "      <td>1</td>\n",
       "      <td>20</td>\n",
       "      <td>https://wtable.co.kr/recipes/3PW95soZHRArnzsYB...</td>\n",
       "      <td>https://static.wtable.co.kr/image/production/s...</td>\n",
       "      <td>['토르티야', '아보카도', '토마토', '양파', '레몬', '소금', '고수'...</td>\n",
       "      <td>['또띠아를 반으로 자른 후 원 뿔 모양으로 둥글게 말아 나무 꼬치로 가장자리를 고...</td>\n",
       "      <td>아보카도는 불포화 지방산이 풍부해 콜레스테롤 수치를 낮추고 혈관건강에 유익해요. 게...</td>\n",
       "    </tr>\n",
       "  </tbody>\n",
       "</table>\n",
       "</div>"
      ],
      "text/plain": [
       "           요리    종류  난이도  소요시간  \\\n",
       "0  올리브 소시지 솥밥  메인요리    1    30   \n",
       "1     원 팟 파스타  메인요리    1    20   \n",
       "2    그릴드 브리치즈  메인요리    1    30   \n",
       "3  그릴드 피치 샐러드  메인요리    1    25   \n",
       "4   과카몰리 부리또콘  메인요리    1    20   \n",
       "\n",
       "                                                  링크  \\\n",
       "0  https://wtable.co.kr/recipes/rF7F5gmLrySsw7ZXZ...   \n",
       "1  https://wtable.co.kr/recipes/EzDURnKruCpR2nGxZ...   \n",
       "2  https://wtable.co.kr/recipes/Tzr7zXZuJvm35s1wd...   \n",
       "3  https://wtable.co.kr/recipes/RofraF8aFP5u5rqeX...   \n",
       "4  https://wtable.co.kr/recipes/3PW95soZHRArnzsYB...   \n",
       "\n",
       "                                                  사진  \\\n",
       "0  https://static.wtable.co.kr/image/production/s...   \n",
       "1  https://static.wtable.co.kr/image/production/s...   \n",
       "2  https://static.wtable.co.kr/image/production/s...   \n",
       "3  https://static.wtable.co.kr/image/production/s...   \n",
       "4  https://static.wtable.co.kr/image/production/s...   \n",
       "\n",
       "                                                  재료  \\\n",
       "0  ['쌀', '물', '치킨스톡 파우더', '샬롯(또는 양파)', '그린올리브', '...   \n",
       "1  ['파스타면', '방울토마토', '그린 올리브', '케이퍼', '파슬리', '올리브...   \n",
       "2  ['브리치즈', '방울토마토', '로즈마리', '마늘', '올리브오일', '후춧가루...   \n",
       "3  ['복숭아', '부라타치즈', '루꼴라', '방울토마토', '민트잎', '화이트발사...   \n",
       "4  ['토르티야', '아보카도', '토마토', '양파', '레몬', '소금', '고수'...   \n",
       "\n",
       "                                                요리방법  \\\n",
       "0  ['쌀은 씻어 채에 받쳐 30분 정도 불려주세요.\\xa0', '소세지는 모양대로 슬...   \n",
       "1  ['방울토마토는 반으로 썰어주세요.\\xa0파슬리는 다져주세요.', '냄비에 파스타면...   \n",
       "2  ['브리치즈에 칼집을 넣어주세요. 마늘은 편을 썰어주세요.\\xa0', '오븐용기에 ...   \n",
       "3  ['복숭아는 씨를 빼고 웨지 모양으로 썰어주세요. 작은 것은 반으로 썰어 주세요.\\...   \n",
       "4  ['또띠아를 반으로 자른 후 원 뿔 모양으로 둥글게 말아 나무 꼬치로 가장자리를 고...   \n",
       "\n",
       "                                                  설명  \n",
       "0  올리브를 넣어 이국적인 감칠맛이 매력적인 솥 밥. 별다른 양념없이도 술술 넘어가는 ...  \n",
       "1  냄비에 파스타와 토마토, 올리브 등 재료를 넣고 물을 부은 후 끓이면 완성되는 초간...  \n",
       "2  브리치즈와 토마토, 오일과 허브를 뿌린 후 오븐에 구워내 보세요. 와인안주로 활용하...  \n",
       "3  복숭아에 멋진 그릴 자국을 내보세요. 여름을 맞아 제철인 단단한 복숭아를 그릴에 구...  \n",
       "4  아보카도는 불포화 지방산이 풍부해 콜레스테롤 수치를 낮추고 혈관건강에 유익해요. 게...  "
      ]
     },
     "execution_count": 14,
     "metadata": {},
     "output_type": "execute_result"
    }
   ],
   "source": [
    "raw_recipes = pd.read_csv('data/raw_recipes.csv')\n",
    "raw_recipes.head()"
   ]
  }
 ],
 "metadata": {
  "colab": {
   "provenance": []
  },
  "kernelspec": {
   "display_name": "Python 3 (ipykernel)",
   "language": "python",
   "name": "python3"
  },
  "language_info": {
   "codemirror_mode": {
    "name": "ipython",
    "version": 3
   },
   "file_extension": ".py",
   "mimetype": "text/x-python",
   "name": "python",
   "nbconvert_exporter": "python",
   "pygments_lexer": "ipython3",
   "version": "3.11.7"
  },
  "widgets": {
   "application/vnd.jupyter.widget-state+json": {}
  }
 },
 "nbformat": 4,
 "nbformat_minor": 4
}
